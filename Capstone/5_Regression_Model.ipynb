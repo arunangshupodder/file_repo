{
 "cells": [
  {
   "cell_type": "code",
   "execution_count": 1,
   "metadata": {},
   "outputs": [
    {
     "name": "stderr",
     "output_type": "stream",
     "text": [
      "Using TensorFlow backend.\n"
     ]
    }
   ],
   "source": [
    "import warnings\n",
    "warnings.filterwarnings('ignore')\n",
    "\n",
    "import math\n",
    "import numpy as np\n",
    "import pandas as pd\n",
    "import matplotlib.pyplot as plt \n",
    "import seaborn as sns\n",
    "from scipy import stats\n",
    "\n",
    "from datetime import datetime\n",
    "\n",
    "from fancyimpute import IterativeImputer\n",
    "from sklearn.impute import KNNImputer\n",
    "from sklearn.cluster import KMeans\n",
    "from sklearn.preprocessing import OrdinalEncoder, StandardScaler, PolynomialFeatures \n",
    "\n",
    "from sklearn.metrics import confusion_matrix, roc_auc_score, roc_curve, classification_report, accuracy_score, precision_score, recall_score, f1_score\n",
    "from sklearn.model_selection import GridSearchCV, train_test_split, KFold, StratifiedKFold, cross_val_predict\n",
    "from sklearn.linear_model import LinearRegression, Ridge, Lasso\n",
    "from sklearn.svm import SVR\n",
    "from statsmodels.formula import api as smf"
   ]
  },
  {
   "cell_type": "code",
   "execution_count": 2,
   "metadata": {},
   "outputs": [],
   "source": [
    "## Global Variables\n",
    "dataset_publish_date = 'May-2019'\n",
    "test_data_size = 0.15\n",
    "number_of_splits = 3"
   ]
  },
  {
   "cell_type": "markdown",
   "metadata": {},
   "source": [
    "# Custom Methods"
   ]
  },
  {
   "cell_type": "code",
   "execution_count": 3,
   "metadata": {},
   "outputs": [],
   "source": [
    "def get_missing_value_count(data,feature):\n",
    "    return (data[data[feature].isna() == True].shape[0]/data[feature].shape[0])*100"
   ]
  },
  {
   "cell_type": "code",
   "execution_count": 4,
   "metadata": {},
   "outputs": [],
   "source": [
    "def encode_categorical_variable(data, feature):\n",
    "    oe = OrdinalEncoder()\n",
    "    data[feature] = oe.fit_transform(np.array(data[feature].astype(str)).reshape(-1, 1))\n",
    "    return data[feature]"
   ]
  },
  {
   "cell_type": "code",
   "execution_count": 5,
   "metadata": {},
   "outputs": [],
   "source": [
    "def impute_by_constant(data, feature, const_value):\n",
    "    return data[feature].fillna(const_value)"
   ]
  },
  {
   "cell_type": "code",
   "execution_count": 6,
   "metadata": {},
   "outputs": [],
   "source": [
    "def impute_by_mice(data, feature, data_type):\n",
    "    if data_type == 'float':\n",
    "        return IterativeImputer().fit_transform(np.array(data[feature].astype(float)).reshape(-1, 1))\n",
    "    elif data_type == 'str':\n",
    "        return IterativeImputer().fit_transform(np.array(data[feature].astype(str)).reshape(-1, 1))"
   ]
  },
  {
   "cell_type": "code",
   "execution_count": 7,
   "metadata": {},
   "outputs": [],
   "source": [
    "def impute_by_knn(data, neighbors):\n",
    "    features = data.columns\n",
    "    temp_df = KNNImputer(n_neighbors=neighbors).fit_transform(data) #imputation returns nd-array\n",
    "    return pd.DataFrame(temp_df, columns=features) #convert nd-array to series"
   ]
  },
  {
   "cell_type": "code",
   "execution_count": 8,
   "metadata": {},
   "outputs": [],
   "source": [
    "def scale_variable(dataset, target_var):\n",
    "    #separate the target variable\n",
    "    dataset = loan_data.copy()\n",
    "    target = dataset[target_var]\n",
    "    dataset.drop([target_var], axis=1, inplace=True)\n",
    "    #scaling of features\n",
    "    scaler = StandardScaler()\n",
    "    scaler.fit(dataset)\n",
    "    dataset = pd.DataFrame(scaler.transform(dataset), columns=dataset.columns)\n",
    "    #add target back to dataset\n",
    "    dataset[target_var] = target.reset_index().drop(['index'], axis=1)[target_var]\n",
    "    return dataset"
   ]
  },
  {
   "cell_type": "code",
   "execution_count": 9,
   "metadata": {},
   "outputs": [],
   "source": [
    "def variable_scale_analysis(dataset, features, graph_name):\n",
    "    fig, ax1 = plt.subplots(figsize=(12, 5))\n",
    "    ax1.set_title(graph_name)\n",
    "    for feature in features:\n",
    "        print(feature, ' : ', dataset[feature].dtype)\n",
    "        sns.kdeplot(dataset[feature], ax=ax1, cumulative=True, bw=1.5)\n",
    "    plt.show()"
   ]
  },
  {
   "cell_type": "code",
   "execution_count": 10,
   "metadata": {},
   "outputs": [],
   "source": [
    "# Binning of dependent variable into categories: Good, Bad and Current loan\n",
    "def loan_type(status):\n",
    "    bad_loan = ['Charged Off', 'Default', 'Late (31-120 days)']\n",
    "    current_loan = ['Current', 'In Grace Period', 'Late (16-30 days)']\n",
    "    if status in bad_loan:\n",
    "        return 0\n",
    "        #return 'Bad Loan'\n",
    "    elif status in current_loan:\n",
    "        return 2\n",
    "        #return 'Current Loan'\n",
    "    else:\n",
    "        return 1\n",
    "        #return 'Good Loan'"
   ]
  },
  {
   "cell_type": "code",
   "execution_count": 11,
   "metadata": {},
   "outputs": [],
   "source": [
    "def count_number_of_months(given_date):\n",
    "    end_date = datetime.strptime(dataset_publish_date, '%b-%Y')\n",
    "    start_date = datetime.strptime(given_date, '%b-%Y')\n",
    "    return (end_date.year - start_date.year)*12 + (end_date.month - start_date.month)"
   ]
  },
  {
   "cell_type": "code",
   "execution_count": 12,
   "metadata": {},
   "outputs": [],
   "source": [
    "def get_heat_map(data, features, x_size, y_size, title):\n",
    "    f, ax = plt.subplots(figsize=(x_size, y_size))\n",
    "    corr = data[features].corr()\n",
    "    ax = sns.heatmap(corr, mask=np.zeros_like(corr, dtype=np.bool), \n",
    "                     cmap=sns.diverging_palette(240,10,as_cmap=True), \n",
    "                     annot=True, vmin=-1, vmax=1)\n",
    "    ax.set_title(title)"
   ]
  },
  {
   "cell_type": "code",
   "execution_count": 13,
   "metadata": {},
   "outputs": [],
   "source": [
    "def get_rmse_score(pred, test):\n",
    "    mse = np.mean((pred-test)**2)\n",
    "    rmse = math.sqrt(mse)\n",
    "    return rmse"
   ]
  },
  {
   "cell_type": "code",
   "execution_count": 14,
   "metadata": {},
   "outputs": [],
   "source": [
    "def get_adjusted_r_squared(r_sqd, N, p):\n",
    "    return 1-(((1-r_sqd)*(N-1))/(N-p-1))"
   ]
  },
  {
   "cell_type": "markdown",
   "metadata": {},
   "source": [
    "# Read dataset"
   ]
  },
  {
   "cell_type": "code",
   "execution_count": 15,
   "metadata": {},
   "outputs": [
    {
     "data": {
      "text/html": [
       "<div>\n",
       "<style scoped>\n",
       "    .dataframe tbody tr th:only-of-type {\n",
       "        vertical-align: middle;\n",
       "    }\n",
       "\n",
       "    .dataframe tbody tr th {\n",
       "        vertical-align: top;\n",
       "    }\n",
       "\n",
       "    .dataframe thead th {\n",
       "        text-align: right;\n",
       "    }\n",
       "</style>\n",
       "<table border=\"1\" class=\"dataframe\">\n",
       "  <thead>\n",
       "    <tr style=\"text-align: right;\">\n",
       "      <th></th>\n",
       "      <th>id</th>\n",
       "      <th>member_id</th>\n",
       "      <th>loan_amnt</th>\n",
       "      <th>funded_amnt</th>\n",
       "      <th>funded_amnt_inv</th>\n",
       "      <th>term</th>\n",
       "      <th>int_rate</th>\n",
       "      <th>installment</th>\n",
       "      <th>grade</th>\n",
       "      <th>sub_grade</th>\n",
       "      <th>...</th>\n",
       "      <th>hardship_payoff_balance_amount</th>\n",
       "      <th>hardship_last_payment_amount</th>\n",
       "      <th>disbursement_method</th>\n",
       "      <th>debt_settlement_flag</th>\n",
       "      <th>debt_settlement_flag_date</th>\n",
       "      <th>settlement_status</th>\n",
       "      <th>settlement_date</th>\n",
       "      <th>settlement_amount</th>\n",
       "      <th>settlement_percentage</th>\n",
       "      <th>settlement_term</th>\n",
       "    </tr>\n",
       "  </thead>\n",
       "  <tbody>\n",
       "    <tr>\n",
       "      <th>0</th>\n",
       "      <td>68407277</td>\n",
       "      <td>NaN</td>\n",
       "      <td>3600.0</td>\n",
       "      <td>3600.0</td>\n",
       "      <td>3600.0</td>\n",
       "      <td>36 months</td>\n",
       "      <td>13.99</td>\n",
       "      <td>123.03</td>\n",
       "      <td>C</td>\n",
       "      <td>C4</td>\n",
       "      <td>...</td>\n",
       "      <td>NaN</td>\n",
       "      <td>NaN</td>\n",
       "      <td>Cash</td>\n",
       "      <td>N</td>\n",
       "      <td>NaN</td>\n",
       "      <td>NaN</td>\n",
       "      <td>NaN</td>\n",
       "      <td>NaN</td>\n",
       "      <td>NaN</td>\n",
       "      <td>NaN</td>\n",
       "    </tr>\n",
       "    <tr>\n",
       "      <th>1</th>\n",
       "      <td>68355089</td>\n",
       "      <td>NaN</td>\n",
       "      <td>24700.0</td>\n",
       "      <td>24700.0</td>\n",
       "      <td>24700.0</td>\n",
       "      <td>36 months</td>\n",
       "      <td>11.99</td>\n",
       "      <td>820.28</td>\n",
       "      <td>C</td>\n",
       "      <td>C1</td>\n",
       "      <td>...</td>\n",
       "      <td>NaN</td>\n",
       "      <td>NaN</td>\n",
       "      <td>Cash</td>\n",
       "      <td>N</td>\n",
       "      <td>NaN</td>\n",
       "      <td>NaN</td>\n",
       "      <td>NaN</td>\n",
       "      <td>NaN</td>\n",
       "      <td>NaN</td>\n",
       "      <td>NaN</td>\n",
       "    </tr>\n",
       "    <tr>\n",
       "      <th>2</th>\n",
       "      <td>68341763</td>\n",
       "      <td>NaN</td>\n",
       "      <td>20000.0</td>\n",
       "      <td>20000.0</td>\n",
       "      <td>20000.0</td>\n",
       "      <td>60 months</td>\n",
       "      <td>10.78</td>\n",
       "      <td>432.66</td>\n",
       "      <td>B</td>\n",
       "      <td>B4</td>\n",
       "      <td>...</td>\n",
       "      <td>NaN</td>\n",
       "      <td>NaN</td>\n",
       "      <td>Cash</td>\n",
       "      <td>N</td>\n",
       "      <td>NaN</td>\n",
       "      <td>NaN</td>\n",
       "      <td>NaN</td>\n",
       "      <td>NaN</td>\n",
       "      <td>NaN</td>\n",
       "      <td>NaN</td>\n",
       "    </tr>\n",
       "    <tr>\n",
       "      <th>3</th>\n",
       "      <td>66310712</td>\n",
       "      <td>NaN</td>\n",
       "      <td>35000.0</td>\n",
       "      <td>35000.0</td>\n",
       "      <td>35000.0</td>\n",
       "      <td>60 months</td>\n",
       "      <td>14.85</td>\n",
       "      <td>829.90</td>\n",
       "      <td>C</td>\n",
       "      <td>C5</td>\n",
       "      <td>...</td>\n",
       "      <td>NaN</td>\n",
       "      <td>NaN</td>\n",
       "      <td>Cash</td>\n",
       "      <td>N</td>\n",
       "      <td>NaN</td>\n",
       "      <td>NaN</td>\n",
       "      <td>NaN</td>\n",
       "      <td>NaN</td>\n",
       "      <td>NaN</td>\n",
       "      <td>NaN</td>\n",
       "    </tr>\n",
       "    <tr>\n",
       "      <th>4</th>\n",
       "      <td>68476807</td>\n",
       "      <td>NaN</td>\n",
       "      <td>10400.0</td>\n",
       "      <td>10400.0</td>\n",
       "      <td>10400.0</td>\n",
       "      <td>60 months</td>\n",
       "      <td>22.45</td>\n",
       "      <td>289.91</td>\n",
       "      <td>F</td>\n",
       "      <td>F1</td>\n",
       "      <td>...</td>\n",
       "      <td>NaN</td>\n",
       "      <td>NaN</td>\n",
       "      <td>Cash</td>\n",
       "      <td>N</td>\n",
       "      <td>NaN</td>\n",
       "      <td>NaN</td>\n",
       "      <td>NaN</td>\n",
       "      <td>NaN</td>\n",
       "      <td>NaN</td>\n",
       "      <td>NaN</td>\n",
       "    </tr>\n",
       "  </tbody>\n",
       "</table>\n",
       "<p>5 rows × 151 columns</p>\n",
       "</div>"
      ],
      "text/plain": [
       "         id  member_id  loan_amnt  funded_amnt  funded_amnt_inv        term  \\\n",
       "0  68407277        NaN     3600.0       3600.0           3600.0   36 months   \n",
       "1  68355089        NaN    24700.0      24700.0          24700.0   36 months   \n",
       "2  68341763        NaN    20000.0      20000.0          20000.0   60 months   \n",
       "3  66310712        NaN    35000.0      35000.0          35000.0   60 months   \n",
       "4  68476807        NaN    10400.0      10400.0          10400.0   60 months   \n",
       "\n",
       "   int_rate  installment grade sub_grade  ... hardship_payoff_balance_amount  \\\n",
       "0     13.99       123.03     C        C4  ...                            NaN   \n",
       "1     11.99       820.28     C        C1  ...                            NaN   \n",
       "2     10.78       432.66     B        B4  ...                            NaN   \n",
       "3     14.85       829.90     C        C5  ...                            NaN   \n",
       "4     22.45       289.91     F        F1  ...                            NaN   \n",
       "\n",
       "  hardship_last_payment_amount disbursement_method  debt_settlement_flag  \\\n",
       "0                          NaN                Cash                     N   \n",
       "1                          NaN                Cash                     N   \n",
       "2                          NaN                Cash                     N   \n",
       "3                          NaN                Cash                     N   \n",
       "4                          NaN                Cash                     N   \n",
       "\n",
       "  debt_settlement_flag_date settlement_status settlement_date  \\\n",
       "0                       NaN               NaN             NaN   \n",
       "1                       NaN               NaN             NaN   \n",
       "2                       NaN               NaN             NaN   \n",
       "3                       NaN               NaN             NaN   \n",
       "4                       NaN               NaN             NaN   \n",
       "\n",
       "  settlement_amount settlement_percentage settlement_term  \n",
       "0               NaN                   NaN             NaN  \n",
       "1               NaN                   NaN             NaN  \n",
       "2               NaN                   NaN             NaN  \n",
       "3               NaN                   NaN             NaN  \n",
       "4               NaN                   NaN             NaN  \n",
       "\n",
       "[5 rows x 151 columns]"
      ]
     },
     "execution_count": 15,
     "metadata": {},
     "output_type": "execute_result"
    }
   ],
   "source": [
    "loan_data = pd.read_csv('datasets/LendingClub/AcceptedLoans_2007_to_2018.csv', low_memory=False)\n",
    "loan_data.head()"
   ]
  },
  {
   "cell_type": "markdown",
   "metadata": {},
   "source": [
    "# Preprocessing the data"
   ]
  },
  {
   "cell_type": "code",
   "execution_count": 16,
   "metadata": {},
   "outputs": [],
   "source": [
    "indices_to_be_dropped = loan_data[loan_data['id'].str.contains('Total amount funded in policy code')].index\n",
    "loan_data.drop(index=indices_to_be_dropped, axis=0, inplace=True)\n",
    "\n",
    "indices_to_be_dropped = loan_data[loan_data['id'].str.contains('Loans that do not meet the credit policy')].index\n",
    "loan_data.drop(index=indices_to_be_dropped, axis=0, inplace=True)"
   ]
  },
  {
   "cell_type": "code",
   "execution_count": 17,
   "metadata": {},
   "outputs": [],
   "source": [
    "loan_data['loan_status'] = loan_data['loan_status'].replace(to_replace='Does not meet the credit policy. Status:Fully Paid', \n",
    "                                                  value='Fully Paid')\n",
    "loan_data['loan_status'] = loan_data['loan_status'].replace(to_replace='Does not meet the credit policy. Status:Charged Off', \n",
    "                                                  value='Charged Off')"
   ]
  },
  {
   "cell_type": "code",
   "execution_count": 18,
   "metadata": {},
   "outputs": [],
   "source": [
    "loan_data = loan_data[loan_data['loan_status'] == 'Charged Off']"
   ]
  },
  {
   "cell_type": "code",
   "execution_count": 19,
   "metadata": {},
   "outputs": [],
   "source": [
    "loan_data['issue_d'] = (pd.to_datetime(loan_data['issue_d']).dt.year).astype(int)"
   ]
  },
  {
   "cell_type": "code",
   "execution_count": 20,
   "metadata": {},
   "outputs": [],
   "source": [
    "loan_data['emp_length'].fillna(value=0,inplace=True)\n",
    "loan_data['emp_length'].replace(to_replace='[^0-9]+', value='', inplace=True, regex=True)\n",
    "loan_data['emp_length'] = loan_data['emp_length'].astype(int)\n",
    "loan_data['emp_length'].replace(to_replace=0, value=np.nan, inplace=True)"
   ]
  },
  {
   "cell_type": "markdown",
   "metadata": {},
   "source": [
    "**Handling variables specific to currently active loans**"
   ]
  },
  {
   "cell_type": "code",
   "execution_count": 21,
   "metadata": {},
   "outputs": [],
   "source": [
    "loan_data['last_credit_pull_d'] = impute_by_constant(loan_data, 'last_credit_pull_d', 'May-2019').apply(count_number_of_months)\n",
    "loan_data['last_pymnt_d'] = impute_by_constant(loan_data, 'last_pymnt_d', 'May-2019').apply(count_number_of_months)"
   ]
  },
  {
   "cell_type": "code",
   "execution_count": 22,
   "metadata": {
    "scrolled": true
   },
   "outputs": [
    {
     "name": "stdout",
     "output_type": "stream",
     "text": [
      "Now, the dataset has  269320  records and  151  variables.\n"
     ]
    }
   ],
   "source": [
    "print('Now, the dataset has ', loan_data.shape[0], ' records and ', loan_data.shape[1], ' variables.')"
   ]
  },
  {
   "cell_type": "markdown",
   "metadata": {},
   "source": [
    "**Create sample from dataset (for dev purpose only)**"
   ]
  },
  {
   "cell_type": "code",
   "execution_count": 23,
   "metadata": {},
   "outputs": [
    {
     "data": {
      "text/plain": [
       "\"\\nloan_data = loan_data.sample(n=round(0.1*loan_data.shape[0]))\\nprint('The sampled dataset has ',loan_data.shape[0],' records and ',loan_data.shape[1],' variables.')\\n\""
      ]
     },
     "execution_count": 23,
     "metadata": {},
     "output_type": "execute_result"
    }
   ],
   "source": [
    "'''\n",
    "loan_data = loan_data.sample(n=round(0.1*loan_data.shape[0]))\n",
    "print('The sampled dataset has ',loan_data.shape[0],' records and ',loan_data.shape[1],' variables.')\n",
    "'''"
   ]
  },
  {
   "cell_type": "markdown",
   "metadata": {},
   "source": [
    "# Feature Engineering"
   ]
  },
  {
   "cell_type": "markdown",
   "metadata": {},
   "source": [
    "**Dropping features having redundant data, too many missing values and high correlation with other features**"
   ]
  },
  {
   "cell_type": "code",
   "execution_count": 24,
   "metadata": {},
   "outputs": [],
   "source": [
    "cols_to_be_dropped = ['loan_status','acc_now_delinq','all_util','application_type','desc','earliest_cr_line','emp_title','fico_range_low',\n",
    "                      'funded_amnt_inv','grade','id','il_util','inq_fi','installment','title','loan_amnt','max_bal_bc','member_id','num_tl_120dpd_2m',\n",
    "                      'num_tl_op_past_12m','open_acc_6m','open_il_24m','open_rv_24m','out_prncp_inv','pymnt_plan','tot_cur_bal','total_bal_il',\n",
    "                      'total_pymnt_inv','total_rec_int','total_rec_late_fee','url','zip_code','sec_app_earliest_cr_line','hardship_type','deferral_term',\n",
    "                      'hardship_length','disbursement_method','last_pymnt_amnt','mths_since_last_major_derog','mths_since_last_record','mths_since_rcnt_il',\n",
    "                      'mths_since_recent_bc_dlq','mths_since_recent_revol_delinq','next_pymnt_d', 'open_il_12m','open_act_il','open_rv_12m','total_cu_tl',\n",
    "                      'revol_bal_joint','policy_code','collection_recovery_fee','num_rev_tl_bal_gt_0','int_rate','sec_app_fico_range_low',\n",
    "                      'sec_app_fico_range_high','sec_app_inq_last_6mths','sec_app_mort_acc','sec_app_open_acc','sec_app_revol_util','sec_app_open_act_il',\n",
    "                      'sec_app_num_rev_accts','sec_app_chargeoff_within_12_mths','sec_app_collections_12_mths_ex_med','sec_app_mths_since_last_major_derog',\n",
    "                      'hardship_reason','hardship_status','hardship_amount','hardship_start_date','hardship_end_date','payment_plan_start_date',\n",
    "                      'hardship_dpd','hardship_loan_status','orig_projected_additional_accrued_interest','hardship_payoff_balance_amount',\n",
    "                      'hardship_last_payment_amount','debt_settlement_flag','debt_settlement_flag_date','settlement_status','settlement_date',\n",
    "                      'settlement_amount','settlement_percentage','settlement_term','last_fico_range_low','loan_status']"
   ]
  },
  {
   "cell_type": "code",
   "execution_count": 25,
   "metadata": {},
   "outputs": [],
   "source": [
    "loan_data.drop(cols_to_be_dropped, axis=1, inplace=True)"
   ]
  },
  {
   "cell_type": "code",
   "execution_count": 26,
   "metadata": {},
   "outputs": [
    {
     "name": "stdout",
     "output_type": "stream",
     "text": [
      "Now, the dataset has  269320  records and  68  variables.\n"
     ]
    }
   ],
   "source": [
    "print('Now, the dataset has ', loan_data.shape[0], ' records and ', loan_data.shape[1], ' variables.')"
   ]
  },
  {
   "cell_type": "markdown",
   "metadata": {},
   "source": [
    "**Handling Missing Values (using zero imputation)**"
   ]
  },
  {
   "cell_type": "code",
   "execution_count": 27,
   "metadata": {
    "scrolled": true
   },
   "outputs": [],
   "source": [
    "cols_for_zero_imputation = ['acc_open_past_24mths','annual_inc_joint','chargeoff_within_12_mths','collections_12_mths_ex_med','delinq_2yrs','dti_joint',\n",
    "                            'num_tl_30dpd','num_tl_90g_dpd_24m','open_acc','total_bc_limit','total_il_high_credit_limit', 'delinq_amnt', 'total_acc',\n",
    "                            'mo_sin_old_il_acct','num_il_tl','tot_coll_amt','mo_sin_old_rev_tl_op','mo_sin_rcnt_rev_tl_op','mo_sin_rcnt_tl','mths_since_last_delinq',\n",
    "                            'mths_since_recent_bc','mths_since_recent_inq','mort_acc','num_accts_ever_120_pd','num_actv_bc_tl','num_actv_rev_tl','num_bc_sats',\n",
    "                            'num_bc_tl','num_op_rev_tl','num_rev_accts','num_sats','pct_tl_nvr_dlq','percent_bc_gt_75','revol_util']"
   ]
  },
  {
   "cell_type": "code",
   "execution_count": 28,
   "metadata": {},
   "outputs": [],
   "source": [
    "for feature in cols_for_zero_imputation:\n",
    "    loan_data[feature] = impute_by_constant(loan_data, feature, 0)"
   ]
  },
  {
   "cell_type": "markdown",
   "metadata": {},
   "source": [
    "**Handling Missing Values (using median imputation)**"
   ]
  },
  {
   "cell_type": "code",
   "execution_count": 29,
   "metadata": {},
   "outputs": [],
   "source": [
    "cols_for_median_imputation = ['annual_inc','dti','total_rev_hi_lim','avg_cur_bal','tot_hi_cred_lim','bc_open_to_buy',\n",
    "                              'bc_util','total_bal_ex_mort']"
   ]
  },
  {
   "cell_type": "code",
   "execution_count": 30,
   "metadata": {},
   "outputs": [],
   "source": [
    "for feature in cols_for_median_imputation:\n",
    "    loan_data[feature] = impute_by_constant(loan_data, feature, loan_data[feature].median())"
   ]
  },
  {
   "cell_type": "markdown",
   "metadata": {},
   "source": [
    "**Handling Missing Values (using mode imputation)**"
   ]
  },
  {
   "cell_type": "code",
   "execution_count": 31,
   "metadata": {},
   "outputs": [],
   "source": [
    "cols_for_mode_imputation = []"
   ]
  },
  {
   "cell_type": "markdown",
   "metadata": {},
   "source": [
    "**Encoding categorical features**"
   ]
  },
  {
   "cell_type": "code",
   "execution_count": 32,
   "metadata": {},
   "outputs": [],
   "source": [
    "cols_for_encoding = ['term','sub_grade','home_ownership','verification_status','purpose','addr_state',\n",
    "                     'initial_list_status','hardship_flag']"
   ]
  },
  {
   "cell_type": "code",
   "execution_count": 33,
   "metadata": {},
   "outputs": [],
   "source": [
    "for feature in loan_data.columns:\n",
    "    if loan_data[feature].dtype == 'object':\n",
    "        loan_data[feature] = encode_categorical_variable(loan_data, feature)"
   ]
  },
  {
   "cell_type": "markdown",
   "metadata": {},
   "source": [
    "**Handling Missing Values (using knn imputation)**"
   ]
  },
  {
   "cell_type": "code",
   "execution_count": 34,
   "metadata": {},
   "outputs": [],
   "source": [
    "cols_for_knn_imputation = ['emp_length', 'inq_last_12m', 'inq_last_6mths', 'pub_rec_bankruptcies','tax_liens',\n",
    "                           'pub_rec']"
   ]
  },
  {
   "cell_type": "code",
   "execution_count": 35,
   "metadata": {},
   "outputs": [],
   "source": [
    "#X = impute_by_knn(X, 4)"
   ]
  },
  {
   "cell_type": "code",
   "execution_count": 36,
   "metadata": {},
   "outputs": [],
   "source": [
    "## knn imputation throwing error. hence applied mode imputation\n",
    "for feature in cols_for_knn_imputation:\n",
    "    loan_data[feature] = impute_by_constant(loan_data, feature, loan_data[feature].mode().get(0))"
   ]
  },
  {
   "cell_type": "markdown",
   "metadata": {},
   "source": [
    "**Handling Missing Values (using 'missing' indicator imputation in categorical variables)**"
   ]
  },
  {
   "cell_type": "code",
   "execution_count": 37,
   "metadata": {},
   "outputs": [],
   "source": [
    "loan_data['verification_status_joint'] = impute_by_constant(loan_data, 'verification_status_joint', 'Not Applicable')"
   ]
  },
  {
   "cell_type": "markdown",
   "metadata": {},
   "source": [
    "**Feature Scaling**"
   ]
  },
  {
   "cell_type": "code",
   "execution_count": 38,
   "metadata": {},
   "outputs": [],
   "source": [
    "loan_data_scaled = scale_variable(loan_data, 'recoveries')"
   ]
  },
  {
   "cell_type": "markdown",
   "metadata": {},
   "source": [
    "# Modelling Preparation"
   ]
  },
  {
   "cell_type": "markdown",
   "metadata": {},
   "source": [
    "**Dropping columns as per feature selection results from previous tests**"
   ]
  },
  {
   "cell_type": "code",
   "execution_count": 39,
   "metadata": {},
   "outputs": [
    {
     "data": {
      "text/plain": [
       "'\\ncols_dropped_post_feature_selection = []\\nloan_data.drop(cols_dropped_post_feature_selection, axis=1, inplace=True)\\n'"
      ]
     },
     "execution_count": 39,
     "metadata": {},
     "output_type": "execute_result"
    }
   ],
   "source": [
    "'''\n",
    "cols_dropped_post_feature_selection = []\n",
    "loan_data.drop(cols_dropped_post_feature_selection, axis=1, inplace=True)\n",
    "'''"
   ]
  },
  {
   "cell_type": "markdown",
   "metadata": {},
   "source": [
    "**Get the feature and target variables**"
   ]
  },
  {
   "cell_type": "code",
   "execution_count": 40,
   "metadata": {},
   "outputs": [
    {
     "name": "stdout",
     "output_type": "stream",
     "text": [
      "Now, the dataset has  269320  records and  67  variables.\n"
     ]
    }
   ],
   "source": [
    "y = loan_data['recoveries']\n",
    "X = loan_data.drop(['recoveries'], axis=1)\n",
    "\n",
    "y_scaled = loan_data_scaled['recoveries']\n",
    "X_scaled = loan_data_scaled.drop(['recoveries'], axis=1)\n",
    "\n",
    "print('Now, the dataset has ', X.shape[0], ' records and ', X.shape[1], ' variables.')"
   ]
  },
  {
   "cell_type": "markdown",
   "metadata": {},
   "source": [
    "**Define k for cross-validation**"
   ]
  },
  {
   "cell_type": "code",
   "execution_count": 41,
   "metadata": {
    "scrolled": true
   },
   "outputs": [],
   "source": [
    "skf = StratifiedKFold(n_splits=number_of_splits)\n",
    "n_split = skf.get_n_splits(X)"
   ]
  },
  {
   "cell_type": "markdown",
   "metadata": {},
   "source": [
    "**Determine the coefficients**"
   ]
  },
  {
   "cell_type": "code",
   "execution_count": 42,
   "metadata": {},
   "outputs": [
    {
     "name": "stdout",
     "output_type": "stream",
     "text": [
      "                            OLS Regression Results                            \n",
      "==============================================================================\n",
      "Dep. Variable:             recoveries   R-squared:                       0.711\n",
      "Model:                            OLS   Adj. R-squared:                  0.711\n",
      "Method:                 Least Squares   F-statistic:                 1.019e+04\n",
      "Date:                Sun, 14 Jun 2020   Prob (F-statistic):               0.00\n",
      "Time:                        20:08:04   Log-Likelihood:            -2.2407e+06\n",
      "No. Observations:              269320   AIC:                         4.482e+06\n",
      "Df Residuals:                  269254   BIC:                         4.482e+06\n",
      "Df Model:                          65                                         \n",
      "Covariance Type:            nonrobust                                         \n",
      "==============================================================================================\n",
      "                                 coef    std err          t      P>|t|      [0.025      0.975]\n",
      "----------------------------------------------------------------------------------------------\n",
      "Intercept                   1207.7193      1.914    631.006      0.000    1203.968    1211.471\n",
      "funded_amnt                  -96.0294      3.591    -26.739      0.000    -103.068     -88.990\n",
      "term                        -407.1846      2.718   -149.823      0.000    -412.511    -401.858\n",
      "sub_grade                   -517.8696      2.760   -187.649      0.000    -523.279    -512.460\n",
      "emp_length                   -10.0925      2.018     -5.001      0.000     -14.048      -6.137\n",
      "home_ownership                 4.4150      2.396      1.843      0.065      -0.281       9.110\n",
      "annual_inc                    12.5748      2.187      5.749      0.000       8.288      16.862\n",
      "verification_status            2.7965      2.026      1.381      0.167      -1.174       6.767\n",
      "issue_d                      573.0509      5.491    104.366      0.000     562.289     583.813\n",
      "purpose                       -2.8559      2.027     -1.409      0.159      -6.829       1.117\n",
      "addr_state                    -1.5497      1.930     -0.803      0.422      -5.333       2.234\n",
      "dti                            1.7247      2.214      0.779      0.436      -2.615       6.065\n",
      "delinq_2yrs                   16.6690      2.839      5.871      0.000      11.104      22.234\n",
      "fico_range_high              -20.8969      2.675     -7.812      0.000     -26.140     -15.654\n",
      "inq_last_6mths                -1.9028      2.326     -0.818      0.413      -6.461       2.656\n",
      "mths_since_last_delinq         8.0641      2.135      3.777      0.000       3.879      12.249\n",
      "open_acc                      77.0485     11.155      6.907      0.000      55.186      98.911\n",
      "pub_rec                        0.8751      5.684      0.154      0.878     -10.265      12.015\n",
      "revol_bal                     -0.9248      5.420     -0.171      0.865     -11.547       9.698\n",
      "revol_util                    -1.0376      3.754     -0.276      0.782      -8.394       6.319\n",
      "total_acc                   -102.9714     10.705     -9.619      0.000    -123.952     -81.991\n",
      "initial_list_status           42.0297      2.132     19.717      0.000      37.852      46.208\n",
      "out_prncp                   6.298e-12   3.54e-14    177.684      0.000    6.23e-12    6.37e-12\n",
      "total_pymnt                 4158.5254      6.180    672.923      0.000    4146.413    4170.638\n",
      "total_rec_prncp            -3438.4219      5.637   -609.990      0.000   -3449.470   -3427.374\n",
      "last_pymnt_d                 605.4389      5.288    114.494      0.000     595.075     615.803\n",
      "last_credit_pull_d            44.2476      2.475     17.877      0.000      39.396      49.099\n",
      "last_fico_range_high          57.2044      2.084     27.449      0.000      53.120      61.289\n",
      "collections_12_mths_ex_med     0.0956      1.944      0.049      0.961      -3.714       3.905\n",
      "annual_inc_joint               2.5408      3.683      0.690      0.490      -4.678       9.759\n",
      "dti_joint                     -7.1276      3.983     -1.789      0.074     -14.934       0.679\n",
      "verification_status_joint      7.8567      4.334      1.813      0.070      -0.637      16.351\n",
      "tot_coll_amt                  -1.0188      1.952     -0.522      0.602      -4.845       2.807\n",
      "total_rev_hi_lim              36.2055      6.659      5.437      0.000      23.155      49.256\n",
      "inq_last_12m                  -9.1003      2.196     -4.144      0.000     -13.405      -4.796\n",
      "acc_open_past_24mths          25.0698      2.770      9.049      0.000      19.640      30.500\n",
      "avg_cur_bal                    1.8443      4.033      0.457      0.647      -6.061       9.750\n",
      "bc_open_to_buy                12.3167      5.149      2.392      0.017       2.225      22.408\n",
      "bc_util                       13.5094      4.529      2.983      0.003       4.633      22.386\n",
      "chargeoff_within_12_mths      -1.2075      1.968     -0.614      0.539      -5.064       2.649\n",
      "delinq_amnt                    0.0569      1.921      0.030      0.976      -3.708       3.822\n",
      "mo_sin_old_il_acct           -10.5205      2.378     -4.424      0.000     -15.181      -5.860\n",
      "mo_sin_old_rev_tl_op         -10.7610      2.421     -4.446      0.000     -15.505      -6.017\n",
      "mo_sin_rcnt_rev_tl_op          1.4624      2.877      0.508      0.611      -4.177       7.102\n",
      "mo_sin_rcnt_tl                -5.4217      2.575     -2.106      0.035     -10.468      -0.375\n",
      "mort_acc                       2.4353      2.989      0.815      0.415      -3.424       8.294\n",
      "mths_since_recent_bc          -8.4546      2.454     -3.445      0.001     -13.265      -3.644\n",
      "mths_since_recent_inq        -13.7602      2.210     -6.225      0.000     -18.093      -9.428\n",
      "num_accts_ever_120_pd         12.5471      2.358      5.320      0.000       7.925      17.169\n",
      "num_actv_bc_tl                 0.6046      5.677      0.106      0.915     -10.523      11.732\n",
      "num_actv_rev_tl              -35.6330      5.317     -6.702      0.000     -46.053     -25.213\n",
      "num_bc_sats                   16.3774      5.206      3.146      0.002       6.175      26.580\n",
      "num_bc_tl                    -44.0553      5.778     -7.625      0.000     -55.379     -32.731\n",
      "num_il_tl                     52.9933      7.181      7.380      0.000      38.919      67.067\n",
      "num_op_rev_tl                -37.3598      7.226     -5.170      0.000     -51.522     -23.198\n",
      "num_rev_accts                144.2383      9.979     14.454      0.000     124.680     163.797\n",
      "num_sats                    -102.7425     11.390     -9.020      0.000    -125.067     -80.418\n",
      "num_tl_30dpd                  -0.9455      1.941     -0.487      0.626      -4.749       2.858\n",
      "num_tl_90g_dpd_24m            -9.6752      2.689     -3.597      0.000     -14.946      -4.404\n",
      "pct_tl_nvr_dlq                46.0046      4.145     11.100      0.000      37.881      54.128\n",
      "percent_bc_gt_75             -15.9934      3.490     -4.582      0.000     -22.834      -9.153\n",
      "pub_rec_bankruptcies          -2.4316      4.003     -0.607      0.544     -10.278       5.415\n",
      "tax_liens                     -2.4414      4.384     -0.557      0.578     -11.035       6.152\n",
      "tot_hi_cred_lim               14.4958      4.736      3.061      0.002       5.214      23.778\n",
      "total_bal_ex_mort            -27.7185      6.859     -4.041      0.000     -41.163     -14.274\n",
      "total_bc_limit                23.1045      5.365      4.307      0.000      12.589      33.620\n",
      "total_il_high_credit_limit    38.3826      6.605      5.811      0.000      25.437      51.328\n",
      "hardship_flag                       0          0        nan        nan           0           0\n",
      "==============================================================================\n",
      "Omnibus:                    50383.424   Durbin-Watson:                   1.946\n",
      "Prob(Omnibus):                  0.000   Jarque-Bera (JB):          1070001.825\n",
      "Skew:                           0.319   Prob(JB):                         0.00\n",
      "Kurtosis:                      12.744   Cond. No.                     1.54e+16\n",
      "==============================================================================\n",
      "\n",
      "Warnings:\n",
      "[1] Standard Errors assume that the covariance matrix of the errors is correctly specified.\n",
      "[2] The smallest eigenvalue is 1.03e-26. This might indicate that there are\n",
      "strong multicollinearity problems or that the design matrix is singular.\n"
     ]
    }
   ],
   "source": [
    "data_train = pd.concat([X_scaled, y_scaled], axis=1)\n",
    "regressors = ''\n",
    "regressors_list = list(X_scaled.columns) \n",
    "for idx in np.arange(0, len(regressors_list)):\n",
    "    if idx == len(regressors_list) - 1:\n",
    "        regressors = regressors + regressors_list[idx]\n",
    "    else:\n",
    "        regressors = regressors + regressors_list[idx] + '+'\n",
    "\n",
    "regressors = 'recoveries ~ ' + regressors\n",
    "\n",
    "lm1 = smf.ols(formula= regressors, data = data_train).fit()\n",
    "lm1.params\n",
    "print(lm1.summary())"
   ]
  },
  {
   "cell_type": "markdown",
   "metadata": {},
   "source": [
    "# Data Modelling - Linear Regression"
   ]
  },
  {
   "cell_type": "markdown",
   "metadata": {},
   "source": [
    "**Modelling: Train, Test and Model Assessment**"
   ]
  },
  {
   "cell_type": "code",
   "execution_count": 43,
   "metadata": {},
   "outputs": [],
   "source": [
    "## split into train and test data\n",
    "X_train, X_test, y_train, y_test = train_test_split(X_scaled,y_scaled,test_size=test_data_size,random_state=0)\n",
    "## model fitting using train data\n",
    "lin_reg = LinearRegression(normalize=True, n_jobs=4)\n",
    "lin_reg.fit(X_train, y_train)\n",
    "## predicting using test data\n",
    "y_pred = lin_reg.predict(X_test)"
   ]
  },
  {
   "cell_type": "markdown",
   "metadata": {},
   "source": [
    "**Assessing the model performance**"
   ]
  },
  {
   "cell_type": "code",
   "execution_count": 44,
   "metadata": {},
   "outputs": [
    {
     "name": "stdout",
     "output_type": "stream",
     "text": [
      "The model intercept:  1207.5578815485303\n",
      "The model prediction score (r^2):  0.7082927402015445\n",
      "The model prediction score (adjusted r^2):  0.7078081285872004\n",
      "The model RMSE score:  1000.6877853389628\n"
     ]
    }
   ],
   "source": [
    "print('The model intercept: ', lin_reg.intercept_)\n",
    "print('The model prediction score (r^2): ', lin_reg.score(X_test, y_test))\n",
    "print('The model prediction score (adjusted r^2): ', get_adjusted_r_squared(r_sqd=lin_reg.score(X_test, y_test), \n",
    "                                                                            N=X_test.shape[0],\n",
    "                                                                            p=X_test.shape[1]))\n",
    "print('The model RMSE score: ', get_rmse_score(y_pred, y_test))"
   ]
  },
  {
   "cell_type": "code",
   "execution_count": 45,
   "metadata": {
    "scrolled": false
   },
   "outputs": [
    {
     "data": {
      "text/plain": [
       "Text(0.5, 1.0, 'Actual vs Predicted Values')"
      ]
     },
     "execution_count": 45,
     "metadata": {},
     "output_type": "execute_result"
    },
    {
     "data": {
      "image/png": "[encoded data removed]",
      "text/plain": [
       "<Figure size 720x432 with 1 Axes>"
      ]
     },
     "metadata": {
      "needs_background": "light"
     },
     "output_type": "display_data"
    }
   ],
   "source": [
    "plt.figure(figsize=(10,6))\n",
    "ax = sns.scatterplot(x=y_test, y=y_pred)\n",
    "ax.set(xlabel='Actual Values', ylabel='Predicted Values')\n",
    "ax.set_title('Actual vs Predicted Values')"
   ]
  },
  {
   "cell_type": "markdown",
   "metadata": {},
   "source": [
    "# Data Modelling - Polynomial Regression"
   ]
  },
  {
   "cell_type": "markdown",
   "metadata": {},
   "source": [
    "**Modelling: Train, Test and Model Assessment**"
   ]
  },
  {
   "cell_type": "code",
   "execution_count": 46,
   "metadata": {},
   "outputs": [],
   "source": [
    "## define the polynomial degree\n",
    "poly = PolynomialFeatures(degree=2,include_bias=False)\n",
    "X_poly = poly.fit_transform(X_scaled)\n",
    "## split into train and test data\n",
    "X_train, X_test, y_train, y_test = train_test_split(X_poly,y_scaled,test_size=test_data_size,random_state=0)\n",
    "## model fitting using train data\n",
    "poly_reg = LinearRegression(normalize=True, n_jobs=4)\n",
    "poly_reg.fit(X_train, y_train)\n",
    "## predicting using test data\n",
    "y_pred = poly_reg.predict(X_test)"
   ]
  },
  {
   "cell_type": "code",
   "execution_count": 47,
   "metadata": {},
   "outputs": [
    {
     "name": "stdout",
     "output_type": "stream",
     "text": [
      "The model intercept:  7373262967088.059\n",
      "The model prediction score (r^2):  0.938658676361721\n",
      "The model prediction score (adjusted r^2):  0.9348784439447189\n",
      "The model RMSE score:  458.88255885448825\n"
     ]
    }
   ],
   "source": [
    "print('The model intercept: ', poly_reg.intercept_)\n",
    "print('The model prediction score (r^2): ', poly_reg.score(X_test, y_test))\n",
    "print('The model prediction score (adjusted r^2): ', get_adjusted_r_squared(r_sqd=poly_reg.score(X_test, y_test), \n",
    "                                                                            N=X_test.shape[0],\n",
    "                                                                            p=X_test.shape[1]))\n",
    "print('The model RMSE score: ', get_rmse_score(y_pred, y_test))"
   ]
  },
  {
   "cell_type": "code",
   "execution_count": 48,
   "metadata": {},
   "outputs": [
    {
     "data": {
      "text/plain": [
       "Text(0.5, 1.0, 'Actual vs Predicted Values')"
      ]
     },
     "execution_count": 48,
     "metadata": {},
     "output_type": "execute_result"
    },
    {
     "data": {
      "image/png": "[encoded data removed]",
      "text/plain": [
       "<Figure size 720x432 with 1 Axes>"
      ]
     },
     "metadata": {
      "needs_background": "light"
     },
     "output_type": "display_data"
    }
   ],
   "source": [
    "plt.figure(figsize=(10,6))\n",
    "ax = sns.scatterplot(x=y_test, y=y_pred)\n",
    "ax.set(xlabel='Actual Values', ylabel='Predicted Values')\n",
    "ax.set_title('Actual vs Predicted Values')"
   ]
  },
  {
   "cell_type": "markdown",
   "metadata": {},
   "source": [
    "# Data Modelling - Support Vector Regression"
   ]
  },
  {
   "cell_type": "markdown",
   "metadata": {},
   "source": [
    "**Hyper parameter tuning**"
   ]
  },
  {
   "cell_type": "code",
   "execution_count": 49,
   "metadata": {
    "scrolled": false
   },
   "outputs": [
    {
     "data": {
      "text/plain": [
       "\"\\nreg = SVR(max_iter=10000)\\nparameters = {\\n    'kernel': ['linear'],\\n    'C': [100],\\n    'tol': [0.01]\\n     }\\n\\ngrid = GridSearchCV(clf, parameters, n_jobs=4, scoring='r2', cv=2, verbose=20)\\ngrid.fit(X_scaled, y_scaled)\\nprint('Best Estimator: ', grid.best_estimator_)\\nprint('Best Score: ', grid.best_score_)\\n\""
      ]
     },
     "execution_count": 49,
     "metadata": {},
     "output_type": "execute_result"
    }
   ],
   "source": [
    "'''\n",
    "reg = SVR(max_iter=10000)\n",
    "parameters = {\n",
    "    'kernel': ['linear'],\n",
    "    'C': [100],\n",
    "    'tol': [0.01]\n",
    "     }\n",
    "\n",
    "grid = GridSearchCV(clf, parameters, n_jobs=4, scoring='r2', cv=2, verbose=20)\n",
    "grid.fit(X_scaled, y_scaled)\n",
    "print('Best Estimator: ', grid.best_estimator_)\n",
    "print('Best Score: ', grid.best_score_)\n",
    "'''"
   ]
  },
  {
   "cell_type": "markdown",
   "metadata": {},
   "source": [
    "**Modelling: Train, Test and Model Assessment**"
   ]
  },
  {
   "cell_type": "code",
   "execution_count": 50,
   "metadata": {},
   "outputs": [],
   "source": [
    "## split into train and test data\n",
    "X_train, X_test, y_train, y_test = train_test_split(X_scaled,y_scaled,test_size=test_data_size,random_state=0)\n",
    "## model fitting using train data\n",
    "sv_reg = SVR(kernel='linear', C=100, tol=0.01)\n",
    "sv_reg.fit(X_train, y_train)\n",
    "## predicting using test data\n",
    "y_pred = sv_reg.predict(X_test)"
   ]
  },
  {
   "cell_type": "markdown",
   "metadata": {},
   "source": [
    "**Assessing the model performance**"
   ]
  },
  {
   "cell_type": "code",
   "execution_count": 51,
   "metadata": {},
   "outputs": [
    {
     "name": "stdout",
     "output_type": "stream",
     "text": [
      "The model intercept:  [1196.39308467]\n",
      "The model prediction score (r^2):  0.7072270178812229\n",
      "The model prediction score (adjusted r^2):  0.7022885008112435\n",
      "The model RMSE score:  988.1480151806065\n"
     ]
    }
   ],
   "source": [
    "print('The model intercept: ', sv_reg.intercept_)\n",
    "print('The model prediction score (r^2): ', sv_reg.score(X_test, y_test))\n",
    "print('The model prediction score (adjusted r^2): ', get_adjusted_r_squared(r_sqd=sv_reg.score(X_test, y_test), \n",
    "                                                                            N=X_test.shape[0],\n",
    "                                                                            p=X_test.shape[1]))\n",
    "print('The model RMSE score: ', get_rmse_score(y_pred, y_test))"
   ]
  },
  {
   "cell_type": "code",
   "execution_count": 52,
   "metadata": {},
   "outputs": [
    {
     "data": {
      "text/plain": [
       "Text(0.5, 1.0, 'Actual vs Predicted Values')"
      ]
     },
     "execution_count": 52,
     "metadata": {},
     "output_type": "execute_result"
    },
    {
     "data": {
      "image/png": "[encoded data removed]",
      "text/plain": [
       "<Figure size 720x432 with 1 Axes>"
      ]
     },
     "metadata": {
      "needs_background": "light"
     },
     "output_type": "display_data"
    }
   ],
   "source": [
    "plt.figure(figsize=(10,6))\n",
    "ax = sns.scatterplot(x=y_test, y=y_pred)\n",
    "ax.set(xlabel='Actual Values', ylabel='Predicted Values')\n",
    "ax.set_title('Actual vs Predicted Values')"
   ]
  },
  {
   "cell_type": "markdown",
   "metadata": {},
   "source": [
    "# Data Modelling - Ridge Regression"
   ]
  },
  {
   "cell_type": "markdown",
   "metadata": {},
   "source": [
    "**Hyper parameter tuning**"
   ]
  },
  {
   "cell_type": "code",
   "execution_count": 49,
   "metadata": {},
   "outputs": [
    {
     "data": {
      "text/plain": [
       "\"\\nreg = Ridge(normalize=False,max_iter=10000,random_state=0)\\nparameters = {\\n    'solver': ['auto', 'svd', 'cholesky', 'lsqr', 'sparse_cg', 'sag', 'saga'],\\n    'alpha': [1,10,100,1000],\\n    'tol': [0.01,0.001,0.0001]\\n     }\\n\\ngrid = GridSearchCV(reg, parameters, n_jobs=4, scoring='r2', cv=2, verbose=20)\\ngrid.fit(X_scaled, y_scaled)\\nprint('Best Estimator: ', grid.best_estimator_)\\nprint('Best Score: ', grid.best_score_)\\n\""
      ]
     },
     "execution_count": 49,
     "metadata": {},
     "output_type": "execute_result"
    }
   ],
   "source": [
    "'''\n",
    "reg = Ridge(normalize=False,max_iter=10000,random_state=0)\n",
    "parameters = {\n",
    "    'solver': ['auto', 'svd', 'cholesky', 'lsqr', 'sparse_cg', 'sag', 'saga'],\n",
    "    'alpha': [1,10,100,1000],\n",
    "    'tol': [0.01,0.001,0.0001]\n",
    "     }\n",
    "\n",
    "grid = GridSearchCV(reg, parameters, n_jobs=4, scoring='r2', cv=2, verbose=20)\n",
    "grid.fit(X_scaled, y_scaled)\n",
    "print('Best Estimator: ', grid.best_estimator_)\n",
    "print('Best Score: ', grid.best_score_)\n",
    "'''"
   ]
  },
  {
   "cell_type": "markdown",
   "metadata": {},
   "source": [
    "**Modelling: Train, Test and Model Assessment**"
   ]
  },
  {
   "cell_type": "code",
   "execution_count": 50,
   "metadata": {},
   "outputs": [],
   "source": [
    "## split into train and test data\n",
    "X_train, X_test, y_train, y_test = train_test_split(X_scaled,y_scaled,test_size=test_data_size,random_state=0)\n",
    "## model fitting using train data\n",
    "ridge_reg = Ridge(solver='auto', alpha=1, tol=0.01, normalize=False, max_iter=10000, random_state=0)\n",
    "ridge_reg.fit(X_train, y_train)\n",
    "## predicting using test data\n",
    "y_pred = ridge_reg.predict(X_test)"
   ]
  },
  {
   "cell_type": "markdown",
   "metadata": {},
   "source": [
    "**Assessing the model performance**"
   ]
  },
  {
   "cell_type": "code",
   "execution_count": 51,
   "metadata": {},
   "outputs": [
    {
     "name": "stdout",
     "output_type": "stream",
     "text": [
      "The model intercept:  1207.5578148591142\n",
      "The model prediction score (r^2):  0.7082931936004602\n",
      "The model prediction score (adjusted r^2):  0.7078085827393452\n",
      "The model RMSE score:  1000.6870076570267\n"
     ]
    }
   ],
   "source": [
    "print('The model intercept: ', ridge_reg.intercept_)\n",
    "print('The model prediction score (r^2): ', ridge_reg.score(X_test, y_test))\n",
    "print('The model prediction score (adjusted r^2): ', get_adjusted_r_squared(r_sqd=ridge_reg.score(X_test, y_test), \n",
    "                                                                            N=X_test.shape[0],\n",
    "                                                                            p=X_test.shape[1]))\n",
    "print('The model RMSE score: ', get_rmse_score(y_pred, y_test))"
   ]
  },
  {
   "cell_type": "code",
   "execution_count": 52,
   "metadata": {},
   "outputs": [
    {
     "data": {
      "text/plain": [
       "Text(0.5, 1.0, 'Actual vs Predicted Values')"
      ]
     },
     "execution_count": 52,
     "metadata": {},
     "output_type": "execute_result"
    },
    {
     "data": {
      "image/png": "[encoded data removed]",
      "text/plain": [
       "<Figure size 720x432 with 1 Axes>"
      ]
     },
     "metadata": {
      "needs_background": "light"
     },
     "output_type": "display_data"
    }
   ],
   "source": [
    "plt.figure(figsize=(10,6))\n",
    "ax = sns.scatterplot(x=y_test, y=y_pred)\n",
    "ax.set(xlabel='Actual Values', ylabel='Predicted Values')\n",
    "ax.set_title('Actual vs Predicted Values')"
   ]
  },
  {
   "cell_type": "markdown",
   "metadata": {},
   "source": [
    "# Data Modelling - Lasso Regression"
   ]
  },
  {
   "cell_type": "code",
   "execution_count": 53,
   "metadata": {},
   "outputs": [
    {
     "data": {
      "text/plain": [
       "\"\\nreg = Lasso(normalize=False,max_iter=10000,random_state=0)\\nparameters = {\\n    'selection': ['cyclic','random'],\\n    'alpha': [1,10,100,1000],\\n    'tol': [0.01,0.001,0.0001],\\n    'positive': [True,False]\\n     }\\n\\ngrid = GridSearchCV(reg, parameters, n_jobs=4, scoring='r2', cv=2, verbose=20)\\ngrid.fit(X_scaled, y_scaled)\\nprint('Best Estimator: ', grid.best_estimator_)\\nprint('Best Score: ', grid.best_score_)\\n\""
      ]
     },
     "execution_count": 53,
     "metadata": {},
     "output_type": "execute_result"
    }
   ],
   "source": [
    "'''\n",
    "reg = Lasso(normalize=False,max_iter=10000,random_state=0)\n",
    "parameters = {\n",
    "    'selection': ['cyclic','random'],\n",
    "    'alpha': [1,10,100,1000],\n",
    "    'tol': [0.01,0.001,0.0001],\n",
    "    'positive': [True,False]\n",
    "     }\n",
    "\n",
    "grid = GridSearchCV(reg, parameters, n_jobs=4, scoring='r2', cv=2, verbose=20)\n",
    "grid.fit(X_scaled, y_scaled)\n",
    "print('Best Estimator: ', grid.best_estimator_)\n",
    "print('Best Score: ', grid.best_score_)\n",
    "'''"
   ]
  },
  {
   "cell_type": "markdown",
   "metadata": {},
   "source": [
    "**Modelling: Train, Test and Model Assessment**"
   ]
  },
  {
   "cell_type": "code",
   "execution_count": 54,
   "metadata": {},
   "outputs": [],
   "source": [
    "## split into train and test data\n",
    "X_train, X_test, y_train, y_test = train_test_split(X_scaled,y_scaled,test_size=test_data_size,random_state=0)\n",
    "## model fitting using train data\n",
    "lasso_reg = Lasso(selection='cyclic', alpha=1, tol=0.0001, normalize=False, max_iter=10000, random_state=0)\n",
    "lasso_reg.fit(X_train, y_train)\n",
    "## predicting using test data\n",
    "y_pred = lasso_reg.predict(X_test)"
   ]
  },
  {
   "cell_type": "code",
   "execution_count": 55,
   "metadata": {},
   "outputs": [
    {
     "name": "stdout",
     "output_type": "stream",
     "text": [
      "The model intercept:  1207.5769465496398\n",
      "The model prediction score (r^2):  0.7081764209472013\n",
      "The model prediction score (adjusted r^2):  0.7076916160923405\n",
      "The model RMSE score:  1000.8872792695611\n"
     ]
    }
   ],
   "source": [
    "print('The model intercept: ', lasso_reg.intercept_)\n",
    "print('The model prediction score (r^2): ', lasso_reg.score(X_test, y_test))\n",
    "print('The model prediction score (adjusted r^2): ', get_adjusted_r_squared(r_sqd=lasso_reg.score(X_test, y_test), \n",
    "                                                                            N=X_test.shape[0],\n",
    "                                                                            p=X_test.shape[1]))\n",
    "print('The model RMSE score: ', get_rmse_score(y_pred, y_test))"
   ]
  },
  {
   "cell_type": "code",
   "execution_count": 56,
   "metadata": {},
   "outputs": [
    {
     "data": {
      "text/plain": [
       "Text(0.5, 1.0, 'Actual vs Predicted Values')"
      ]
     },
     "execution_count": 56,
     "metadata": {},
     "output_type": "execute_result"
    },
    {
     "data": {
      "image/png": "[encoded data removed]",
      "text/plain": [
       "<Figure size 720x432 with 1 Axes>"
      ]
     },
     "metadata": {
      "needs_background": "light"
     },
     "output_type": "display_data"
    }
   ],
   "source": [
    "plt.figure(figsize=(10,6))\n",
    "ax = sns.scatterplot(x=y_test, y=y_pred)\n",
    "ax.set(xlabel='Actual Values', ylabel='Predicted Values')\n",
    "ax.set_title('Actual vs Predicted Values')"
   ]
  },
  {
   "cell_type": "markdown",
   "metadata": {},
   "source": [
    "# Model Performance Summary"
   ]
  },
  {
   "cell_type": "markdown",
   "metadata": {},
   "source": [
    "<table style=\"width:50%\">\n",
    "<tr>\n",
    "<th>Model Name</th>\n",
    "<th>RMSE</th>\n",
    "<th>R^2</th>\n",
    "<th>Adjusted R^2</th>    \n",
    "</tr>\n",
    "\n",
    "<tr>\n",
    "<td>Polynomial Regression</td>\n",
    "<td>458.87</td>\n",
    "<td>0.94</td>\n",
    "<td>0.93</td>\n",
    "</tr>\n",
    "\n",
    "<tr>\n",
    "<td>Linear Regression</td>\n",
    "<td>1000.69</td>\n",
    "<td>0.708</td>\n",
    "<td>0.707</td>\n",
    "</tr>\n",
    "\n",
    "<tr>\n",
    "<td>Lasso Regression</td>\n",
    "<td>1000.89</td>\n",
    "<td>0.708</td>\n",
    "<td>0.707</td>\n",
    "</tr>\n",
    "\n",
    "<tr>\n",
    "<td>Ridge Regression</td>\n",
    "<td>1207.56</td>\n",
    "<td>0.708</td>\n",
    "<td>0.707</td>\n",
    "</tr>\n",
    "\n",
    "<tr>\n",
    "<td>Support Vector Regression</td>\n",
    "<td>1023.00</td>\n",
    "<td>0.707</td>\n",
    "<td>0.702</td>\n",
    "</tr>\n",
    "\n",
    "</table>"
   ]
  },
  {
   "cell_type": "markdown",
   "metadata": {},
   "source": [
    "# Predicting the fate of currently active loans"
   ]
  },
  {
   "cell_type": "code",
   "execution_count": 57,
   "metadata": {},
   "outputs": [
    {
     "data": {
      "text/plain": [
       "\"\\n## preprocessing the data\\nloan_data_final_predict['issue_d'] = (pd.to_datetime(loan_data_final_predict['issue_d']).dt.year).astype(int)\\nloan_data_final_predict['emp_length'].fillna(value=0,inplace=True)\\nloan_data_final_predict['emp_length'].replace(to_replace='[^0-9]+', value='', inplace=True, regex=True)\\nloan_data_final_predict['emp_length'] = loan_data_final_predict['emp_length'].astype(int)\\nloan_data_final_predict['emp_length'].replace(to_replace=0, value=np.nan, inplace=True)\\n## dropping columns not needed\\nloan_data_final_predict.drop(cols_to_be_dropped, axis=1, inplace=True)\\n## temporary step\\nfor feature in temp_cols_imputed:\\n    loan_data_final_predict[feature] = impute_by_constant(loan_data_final_predict, feature, \\n                                                          loan_data_final_predict[feature].median())\\nloan_data_final_predict.drop(temp_cols_dropped, axis=1, inplace=True)\\n## missing value imputation -> constant(zero), mean, median\\nfor feature in cols_for_zero_imputation:\\n    loan_data_final_predict[feature] = impute_by_constant(loan_data_final_predict, feature, 0)\\nfor feature in cols_for_median_imputation:\\n    loan_data_final_predict[feature] = impute_by_constant(loan_data_final_predict, feature, \\n                                                          loan_data[feature].median())\\n## categorical value encoding\\nfor feature in loan_data_final_predict.columns:\\n    if loan_data_final_predict[feature].dtype == 'object':\\n        loan_data_final_predict[feature] = encode_categorical_variable(loan_data_final_predict, feature)\\n## missing value imputation -> knn\\nfor feature in cols_for_knn_imputation:\\n    loan_data_final_predict[feature] = impute_by_constant(loan_data_final_predict, feature, \\n                                                          loan_data_final_predict[feature].mode().get(0))\\n## missing value imputation -> constant (categorical)\\nloan_data_final_predict['verification_status_joint'] = impute_by_constant(loan_data_final_predict, \\n                                                                          'verification_status_joint', \\n                                                                          'Not Applicable')\\n## categorical value encoding\\n#loan_data_final_predict = scale_variable(loan_data_final_predict, 'loan_type')\\nscaler = StandardScaler()\\nscaler.fit(loan_data_final_predict)\\nloan_data_final_predict = pd.DataFrame(scaler.transform(loan_data_final_predict), \\n                                       columns=loan_data_final_predict.columns)\\n## predict\\ny_final_pred = lg_clf.predict(loan_data_final_predict)\\n## merge predicted values with dataset\\nloan_data_final_predict['loan_status'] = pd.Series(y_final_pred)\\n\""
      ]
     },
     "execution_count": 57,
     "metadata": {},
     "output_type": "execute_result"
    }
   ],
   "source": [
    "'''\n",
    "## preprocessing the data\n",
    "loan_data_final_predict['issue_d'] = (pd.to_datetime(loan_data_final_predict['issue_d']).dt.year).astype(int)\n",
    "loan_data_final_predict['emp_length'].fillna(value=0,inplace=True)\n",
    "loan_data_final_predict['emp_length'].replace(to_replace='[^0-9]+', value='', inplace=True, regex=True)\n",
    "loan_data_final_predict['emp_length'] = loan_data_final_predict['emp_length'].astype(int)\n",
    "loan_data_final_predict['emp_length'].replace(to_replace=0, value=np.nan, inplace=True)\n",
    "## dropping columns not needed\n",
    "loan_data_final_predict.drop(cols_to_be_dropped, axis=1, inplace=True)\n",
    "## temporary step\n",
    "for feature in temp_cols_imputed:\n",
    "    loan_data_final_predict[feature] = impute_by_constant(loan_data_final_predict, feature, \n",
    "                                                          loan_data_final_predict[feature].median())\n",
    "loan_data_final_predict.drop(temp_cols_dropped, axis=1, inplace=True)\n",
    "## missing value imputation -> constant(zero), mean, median\n",
    "for feature in cols_for_zero_imputation:\n",
    "    loan_data_final_predict[feature] = impute_by_constant(loan_data_final_predict, feature, 0)\n",
    "for feature in cols_for_median_imputation:\n",
    "    loan_data_final_predict[feature] = impute_by_constant(loan_data_final_predict, feature, \n",
    "                                                          loan_data[feature].median())\n",
    "## categorical value encoding\n",
    "for feature in loan_data_final_predict.columns:\n",
    "    if loan_data_final_predict[feature].dtype == 'object':\n",
    "        loan_data_final_predict[feature] = encode_categorical_variable(loan_data_final_predict, feature)\n",
    "## missing value imputation -> knn\n",
    "for feature in cols_for_knn_imputation:\n",
    "    loan_data_final_predict[feature] = impute_by_constant(loan_data_final_predict, feature, \n",
    "                                                          loan_data_final_predict[feature].mode().get(0))\n",
    "## missing value imputation -> constant (categorical)\n",
    "loan_data_final_predict['verification_status_joint'] = impute_by_constant(loan_data_final_predict, \n",
    "                                                                          'verification_status_joint', \n",
    "                                                                          'Not Applicable')\n",
    "## categorical value encoding\n",
    "#loan_data_final_predict = scale_variable(loan_data_final_predict, 'loan_type')\n",
    "scaler = StandardScaler()\n",
    "scaler.fit(loan_data_final_predict)\n",
    "loan_data_final_predict = pd.DataFrame(scaler.transform(loan_data_final_predict), \n",
    "                                       columns=loan_data_final_predict.columns)\n",
    "## predict\n",
    "y_final_pred = lg_clf.predict(loan_data_final_predict)\n",
    "## merge predicted values with dataset\n",
    "loan_data_final_predict['loan_status'] = pd.Series(y_final_pred)\n",
    "'''"
   ]
  },
  {
   "cell_type": "code",
   "execution_count": 58,
   "metadata": {},
   "outputs": [
    {
     "data": {
      "text/plain": [
       "\"\\n## write prdicted values to output file\\nloan_data_final_predict[loan_data_final_predict['loan_status'] == 0].to_csv('predicted_bad_loans.csv', index=False) \\n\""
      ]
     },
     "execution_count": 58,
     "metadata": {},
     "output_type": "execute_result"
    }
   ],
   "source": [
    "'''\n",
    "## write prdicted values to output file\n",
    "loan_data_final_predict[loan_data_final_predict['loan_status'] == 0].to_csv('predicted_bad_loans.csv', index=False) \n",
    "'''"
   ]
  },
  {
   "cell_type": "code",
   "execution_count": null,
   "metadata": {},
   "outputs": [],
   "source": []
  }
 ],
 "metadata": {
  "kernelspec": {
   "display_name": "Python 3",
   "language": "python",
   "name": "python3"
  },
  "language_info": {
   "codemirror_mode": {
    "name": "ipython",
    "version": 3
   },
   "file_extension": ".py",
   "mimetype": "text/x-python",
   "name": "python",
   "nbconvert_exporter": "python",
   "pygments_lexer": "ipython3",
   "version": "3.7.3"
  }
 },
 "nbformat": 4,
 "nbformat_minor": 2
}
