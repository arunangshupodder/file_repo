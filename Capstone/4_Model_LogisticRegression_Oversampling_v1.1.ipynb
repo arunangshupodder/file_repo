{
 "cells": [
  {
   "cell_type": "code",
   "execution_count": 1,
   "metadata": {},
   "outputs": [
    {
     "name": "stderr",
     "output_type": "stream",
     "text": [
      "Using TensorFlow backend.\n"
     ]
    }
   ],
   "source": [
    "import numpy as np\n",
    "import pandas as pd\n",
    "import matplotlib.pyplot as plt \n",
    "import seaborn as sns\n",
    "\n",
    "from fancyimpute import IterativeImputer\n",
    "from sklearn.impute import KNNImputer\n",
    "from sklearn.cluster import KMeans\n",
    "from sklearn.preprocessing import OrdinalEncoder, StandardScaler\n",
    "from sklearn.metrics import confusion_matrix, roc_auc_score, roc_curve, classification_report, accuracy_score, precision_score, recall_score, f1_score\n",
    "from sklearn.model_selection import GridSearchCV, train_test_split, KFold, StratifiedKFold, cross_val_predict\n",
    "from sklearn.linear_model import LogisticRegression\n",
    "from imblearn.over_sampling import SMOTE, RandomOverSampler, ADASYN\n",
    "\n",
    "from scipy import stats"
   ]
  },
  {
   "cell_type": "markdown",
   "metadata": {},
   "source": [
    "# Custom Methods"
   ]
  },
  {
   "cell_type": "code",
   "execution_count": 2,
   "metadata": {},
   "outputs": [],
   "source": [
    "def get_missing_value_count(data,feature):\n",
    "    return (data[data[feature].isna() == True].shape[0]/data[feature].shape[0])*100"
   ]
  },
  {
   "cell_type": "code",
   "execution_count": 3,
   "metadata": {},
   "outputs": [],
   "source": [
    "def encode_categorical_variable(data, feature):\n",
    "    oe = OrdinalEncoder()\n",
    "    data[feature] = oe.fit_transform(np.array(data[feature].astype(str)).reshape(-1, 1))\n",
    "    return data[feature]"
   ]
  },
  {
   "cell_type": "code",
   "execution_count": 4,
   "metadata": {},
   "outputs": [],
   "source": [
    "def impute_by_constant(data, feature, const_value):\n",
    "    return data[feature].fillna(const_value)"
   ]
  },
  {
   "cell_type": "code",
   "execution_count": 5,
   "metadata": {},
   "outputs": [],
   "source": [
    "def impute_by_mice(data, feature, data_type):\n",
    "    if data_type == 'float':\n",
    "        return IterativeImputer().fit_transform(np.array(data[feature].astype(float)).reshape(-1, 1))\n",
    "    elif data_type == 'str':\n",
    "        return IterativeImputer().fit_transform(np.array(data[feature].astype(str)).reshape(-1, 1))"
   ]
  },
  {
   "cell_type": "code",
   "execution_count": 6,
   "metadata": {},
   "outputs": [],
   "source": [
    "def impute_by_knn(data, neighbors):\n",
    "    features = data.columns\n",
    "    temp_df = KNNImputer(n_neighbors=neighbors).fit_transform(data) #imputation returns nd-array\n",
    "    return pd.DataFrame(temp_df, columns=features) #convert nd-array to series"
   ]
  },
  {
   "cell_type": "code",
   "execution_count": 7,
   "metadata": {},
   "outputs": [],
   "source": [
    "def scale_variable(dataset, target_var):\n",
    "    #separate the target variable\n",
    "    dataset = loan_data.copy()\n",
    "    target = dataset[target_var]\n",
    "    dataset.drop([target_var], axis=1, inplace=True)\n",
    "    #scaling of features\n",
    "    scaler = StandardScaler()\n",
    "    scaler.fit(dataset)\n",
    "    dataset = pd.DataFrame(scaler.transform(dataset), columns=dataset.columns)\n",
    "    #add target back to dataset\n",
    "    dataset[target_var] = target.reset_index().drop(['index'], axis=1)[target_var]\n",
    "    return dataset"
   ]
  },
  {
   "cell_type": "code",
   "execution_count": 8,
   "metadata": {},
   "outputs": [],
   "source": [
    "def variable_scale_analysis(dataset, features, graph_name):\n",
    "    fig, ax1 = plt.subplots(figsize=(12, 5))\n",
    "    ax1.set_title(graph_name)\n",
    "    for feature in features:\n",
    "        print(feature, ' : ', dataset[feature].dtype)\n",
    "        sns.kdeplot(dataset[feature], ax=ax1, cumulative=True, bw=1.5)\n",
    "    plt.show()"
   ]
  },
  {
   "cell_type": "code",
   "execution_count": 9,
   "metadata": {},
   "outputs": [],
   "source": [
    "# Binning of dependent variable into categories: Good, Bad and Current loan\n",
    "def loan_type(status):\n",
    "    bad_loan = ['Charged Off', 'Default', 'Late (31-120 days)']\n",
    "    current_loan = ['Current', 'In Grace Period', 'Late (16-30 days)']\n",
    "    if status in bad_loan:\n",
    "        return 0\n",
    "        #return 'Bad Loan'\n",
    "    elif status in current_loan:\n",
    "        return 2\n",
    "        #return 'Current Loan'\n",
    "    else:\n",
    "        return 1\n",
    "        #return 'Good Loan'"
   ]
  },
  {
   "cell_type": "code",
   "execution_count": 10,
   "metadata": {},
   "outputs": [],
   "source": [
    "def get_heat_map(data, features, x_size, y_size, title):\n",
    "    f, ax = plt.subplots(figsize=(x_size, y_size))\n",
    "    corr = data[features].corr()\n",
    "    ax = sns.heatmap(corr, mask=np.zeros_like(corr, dtype=np.bool), \n",
    "                     cmap=sns.diverging_palette(240,10,as_cmap=True), \n",
    "                     annot=True, vmin=-1, vmax=1)\n",
    "    ax.set_title(title)"
   ]
  },
  {
   "cell_type": "markdown",
   "metadata": {},
   "source": [
    "# Read dataset"
   ]
  },
  {
   "cell_type": "code",
   "execution_count": 11,
   "metadata": {},
   "outputs": [
    {
     "data": {
      "text/html": [
       "<div>\n",
       "<style scoped>\n",
       "    .dataframe tbody tr th:only-of-type {\n",
       "        vertical-align: middle;\n",
       "    }\n",
       "\n",
       "    .dataframe tbody tr th {\n",
       "        vertical-align: top;\n",
       "    }\n",
       "\n",
       "    .dataframe thead th {\n",
       "        text-align: right;\n",
       "    }\n",
       "</style>\n",
       "<table border=\"1\" class=\"dataframe\">\n",
       "  <thead>\n",
       "    <tr style=\"text-align: right;\">\n",
       "      <th></th>\n",
       "      <th>id</th>\n",
       "      <th>member_id</th>\n",
       "      <th>loan_amnt</th>\n",
       "      <th>funded_amnt</th>\n",
       "      <th>funded_amnt_inv</th>\n",
       "      <th>term</th>\n",
       "      <th>int_rate</th>\n",
       "      <th>installment</th>\n",
       "      <th>grade</th>\n",
       "      <th>sub_grade</th>\n",
       "      <th>...</th>\n",
       "      <th>hardship_payoff_balance_amount</th>\n",
       "      <th>hardship_last_payment_amount</th>\n",
       "      <th>disbursement_method</th>\n",
       "      <th>debt_settlement_flag</th>\n",
       "      <th>debt_settlement_flag_date</th>\n",
       "      <th>settlement_status</th>\n",
       "      <th>settlement_date</th>\n",
       "      <th>settlement_amount</th>\n",
       "      <th>settlement_percentage</th>\n",
       "      <th>settlement_term</th>\n",
       "    </tr>\n",
       "  </thead>\n",
       "  <tbody>\n",
       "    <tr>\n",
       "      <th>0</th>\n",
       "      <td>68407277</td>\n",
       "      <td>NaN</td>\n",
       "      <td>3600.0</td>\n",
       "      <td>3600.0</td>\n",
       "      <td>3600.0</td>\n",
       "      <td>36 months</td>\n",
       "      <td>13.99</td>\n",
       "      <td>123.03</td>\n",
       "      <td>C</td>\n",
       "      <td>C4</td>\n",
       "      <td>...</td>\n",
       "      <td>NaN</td>\n",
       "      <td>NaN</td>\n",
       "      <td>Cash</td>\n",
       "      <td>N</td>\n",
       "      <td>NaN</td>\n",
       "      <td>NaN</td>\n",
       "      <td>NaN</td>\n",
       "      <td>NaN</td>\n",
       "      <td>NaN</td>\n",
       "      <td>NaN</td>\n",
       "    </tr>\n",
       "    <tr>\n",
       "      <th>1</th>\n",
       "      <td>68355089</td>\n",
       "      <td>NaN</td>\n",
       "      <td>24700.0</td>\n",
       "      <td>24700.0</td>\n",
       "      <td>24700.0</td>\n",
       "      <td>36 months</td>\n",
       "      <td>11.99</td>\n",
       "      <td>820.28</td>\n",
       "      <td>C</td>\n",
       "      <td>C1</td>\n",
       "      <td>...</td>\n",
       "      <td>NaN</td>\n",
       "      <td>NaN</td>\n",
       "      <td>Cash</td>\n",
       "      <td>N</td>\n",
       "      <td>NaN</td>\n",
       "      <td>NaN</td>\n",
       "      <td>NaN</td>\n",
       "      <td>NaN</td>\n",
       "      <td>NaN</td>\n",
       "      <td>NaN</td>\n",
       "    </tr>\n",
       "    <tr>\n",
       "      <th>2</th>\n",
       "      <td>68341763</td>\n",
       "      <td>NaN</td>\n",
       "      <td>20000.0</td>\n",
       "      <td>20000.0</td>\n",
       "      <td>20000.0</td>\n",
       "      <td>60 months</td>\n",
       "      <td>10.78</td>\n",
       "      <td>432.66</td>\n",
       "      <td>B</td>\n",
       "      <td>B4</td>\n",
       "      <td>...</td>\n",
       "      <td>NaN</td>\n",
       "      <td>NaN</td>\n",
       "      <td>Cash</td>\n",
       "      <td>N</td>\n",
       "      <td>NaN</td>\n",
       "      <td>NaN</td>\n",
       "      <td>NaN</td>\n",
       "      <td>NaN</td>\n",
       "      <td>NaN</td>\n",
       "      <td>NaN</td>\n",
       "    </tr>\n",
       "    <tr>\n",
       "      <th>3</th>\n",
       "      <td>66310712</td>\n",
       "      <td>NaN</td>\n",
       "      <td>35000.0</td>\n",
       "      <td>35000.0</td>\n",
       "      <td>35000.0</td>\n",
       "      <td>60 months</td>\n",
       "      <td>14.85</td>\n",
       "      <td>829.90</td>\n",
       "      <td>C</td>\n",
       "      <td>C5</td>\n",
       "      <td>...</td>\n",
       "      <td>NaN</td>\n",
       "      <td>NaN</td>\n",
       "      <td>Cash</td>\n",
       "      <td>N</td>\n",
       "      <td>NaN</td>\n",
       "      <td>NaN</td>\n",
       "      <td>NaN</td>\n",
       "      <td>NaN</td>\n",
       "      <td>NaN</td>\n",
       "      <td>NaN</td>\n",
       "    </tr>\n",
       "    <tr>\n",
       "      <th>4</th>\n",
       "      <td>68476807</td>\n",
       "      <td>NaN</td>\n",
       "      <td>10400.0</td>\n",
       "      <td>10400.0</td>\n",
       "      <td>10400.0</td>\n",
       "      <td>60 months</td>\n",
       "      <td>22.45</td>\n",
       "      <td>289.91</td>\n",
       "      <td>F</td>\n",
       "      <td>F1</td>\n",
       "      <td>...</td>\n",
       "      <td>NaN</td>\n",
       "      <td>NaN</td>\n",
       "      <td>Cash</td>\n",
       "      <td>N</td>\n",
       "      <td>NaN</td>\n",
       "      <td>NaN</td>\n",
       "      <td>NaN</td>\n",
       "      <td>NaN</td>\n",
       "      <td>NaN</td>\n",
       "      <td>NaN</td>\n",
       "    </tr>\n",
       "  </tbody>\n",
       "</table>\n",
       "<p>5 rows × 151 columns</p>\n",
       "</div>"
      ],
      "text/plain": [
       "         id  member_id  loan_amnt  funded_amnt  funded_amnt_inv        term  \\\n",
       "0  68407277        NaN     3600.0       3600.0           3600.0   36 months   \n",
       "1  68355089        NaN    24700.0      24700.0          24700.0   36 months   \n",
       "2  68341763        NaN    20000.0      20000.0          20000.0   60 months   \n",
       "3  66310712        NaN    35000.0      35000.0          35000.0   60 months   \n",
       "4  68476807        NaN    10400.0      10400.0          10400.0   60 months   \n",
       "\n",
       "   int_rate  installment grade sub_grade  ... hardship_payoff_balance_amount  \\\n",
       "0     13.99       123.03     C        C4  ...                            NaN   \n",
       "1     11.99       820.28     C        C1  ...                            NaN   \n",
       "2     10.78       432.66     B        B4  ...                            NaN   \n",
       "3     14.85       829.90     C        C5  ...                            NaN   \n",
       "4     22.45       289.91     F        F1  ...                            NaN   \n",
       "\n",
       "  hardship_last_payment_amount disbursement_method  debt_settlement_flag  \\\n",
       "0                          NaN                Cash                     N   \n",
       "1                          NaN                Cash                     N   \n",
       "2                          NaN                Cash                     N   \n",
       "3                          NaN                Cash                     N   \n",
       "4                          NaN                Cash                     N   \n",
       "\n",
       "  debt_settlement_flag_date settlement_status settlement_date  \\\n",
       "0                       NaN               NaN             NaN   \n",
       "1                       NaN               NaN             NaN   \n",
       "2                       NaN               NaN             NaN   \n",
       "3                       NaN               NaN             NaN   \n",
       "4                       NaN               NaN             NaN   \n",
       "\n",
       "  settlement_amount settlement_percentage settlement_term  \n",
       "0               NaN                   NaN             NaN  \n",
       "1               NaN                   NaN             NaN  \n",
       "2               NaN                   NaN             NaN  \n",
       "3               NaN                   NaN             NaN  \n",
       "4               NaN                   NaN             NaN  \n",
       "\n",
       "[5 rows x 151 columns]"
      ]
     },
     "execution_count": 11,
     "metadata": {},
     "output_type": "execute_result"
    }
   ],
   "source": [
    "loan_data = pd.read_csv('datasets/LendingClub/AcceptedLoans_2007_to_2018.csv', low_memory=False)\n",
    "loan_data.head()"
   ]
  },
  {
   "cell_type": "markdown",
   "metadata": {},
   "source": [
    "# Preprocessing the data"
   ]
  },
  {
   "cell_type": "code",
   "execution_count": 12,
   "metadata": {},
   "outputs": [],
   "source": [
    "indices_to_be_dropped = loan_data[loan_data['id'].str.contains('Total amount funded in policy code')].index\n",
    "loan_data.drop(index=indices_to_be_dropped, axis=0, inplace=True)\n",
    "\n",
    "indices_to_be_dropped = loan_data[loan_data['id'].str.contains('Loans that do not meet the credit policy')].index\n",
    "loan_data.drop(index=indices_to_be_dropped, axis=0, inplace=True)"
   ]
  },
  {
   "cell_type": "code",
   "execution_count": 13,
   "metadata": {},
   "outputs": [],
   "source": [
    "loan_data['loan_status'] = loan_data['loan_status'].replace(to_replace='Does not meet the credit policy. Status:Fully Paid', \n",
    "                                                  value='Fully Paid')\n",
    "loan_data['loan_status'] = loan_data['loan_status'].replace(to_replace='Does not meet the credit policy. Status:Charged Off', \n",
    "                                                  value='Charged Off')"
   ]
  },
  {
   "cell_type": "code",
   "execution_count": 14,
   "metadata": {},
   "outputs": [],
   "source": [
    "loan_data_final_predict = loan_data[loan_data['loan_status'].isin(['Issued', \n",
    "                                                                   'Current', \n",
    "                                                                   'In Grace Period', \n",
    "                                                                   'Late (16-30 days)'])]"
   ]
  },
  {
   "cell_type": "code",
   "execution_count": 15,
   "metadata": {},
   "outputs": [],
   "source": [
    "indexes = loan_data[loan_data['loan_status'].isin(['Issued', \n",
    "                                                   'Current', \n",
    "                                                   'In Grace Period', \n",
    "                                                   'Late (16-30 days)'])].index\n",
    "loan_data.drop(indexes , inplace=True)"
   ]
  },
  {
   "cell_type": "code",
   "execution_count": 16,
   "metadata": {},
   "outputs": [],
   "source": [
    "loan_data['loan_type'] = loan_data['loan_status'].apply(loan_type)"
   ]
  },
  {
   "cell_type": "code",
   "execution_count": 17,
   "metadata": {},
   "outputs": [],
   "source": [
    "loan_data['issue_d'] = (pd.to_datetime(loan_data['issue_d']).dt.year).astype(int)"
   ]
  },
  {
   "cell_type": "code",
   "execution_count": 18,
   "metadata": {},
   "outputs": [],
   "source": [
    "loan_data['emp_length'].fillna(value=0,inplace=True)\n",
    "loan_data['emp_length'].replace(to_replace='[^0-9]+', value='', inplace=True, regex=True)\n",
    "loan_data['emp_length'] = loan_data['emp_length'].astype(int)\n",
    "loan_data['emp_length'].replace(to_replace=0, value=np.nan, inplace=True)"
   ]
  },
  {
   "cell_type": "code",
   "execution_count": 19,
   "metadata": {},
   "outputs": [
    {
     "name": "stdout",
     "output_type": "stream",
     "text": [
      "Now, the dataset has  1369566  records and  152  variables.\n"
     ]
    }
   ],
   "source": [
    "print('Now, the dataset has ', loan_data.shape[0], ' records and ', loan_data.shape[1], ' variables.')"
   ]
  },
  {
   "cell_type": "code",
   "execution_count": 20,
   "metadata": {},
   "outputs": [
    {
     "name": "stdout",
     "output_type": "stream",
     "text": [
      "The sampled dataset has  68478  records and  152  variables.\n"
     ]
    }
   ],
   "source": [
    "loan_data = loan_data.sample(n=round(0.05*loan_data.shape[0]))\n",
    "print('The sampled dataset has ',loan_data.shape[0],' records and ',loan_data.shape[1],' variables.')"
   ]
  },
  {
   "cell_type": "markdown",
   "metadata": {},
   "source": [
    "# Feature Engineering"
   ]
  },
  {
   "cell_type": "markdown",
   "metadata": {},
   "source": [
    "**Dropping features having redundant data, too many missing values and high correlation with other features**"
   ]
  },
  {
   "cell_type": "code",
   "execution_count": 21,
   "metadata": {},
   "outputs": [],
   "source": [
    "cols_to_be_dropped = ['loan_status','acc_now_delinq','all_util','application_type','desc','earliest_cr_line',\n",
    "                      'emp_title','fico_range_low','funded_amnt_inv','grade','id','il_util','inq_fi',\n",
    "                      'installment','last_credit_pull_d','last_fico_range_high','last_fico_range_low','last_pymnt_d',\n",
    "                      'loan_amnt','max_bal_bc','member_id','num_tl_120dpd_2m','num_tl_op_past_12m','open_acc_6m',\n",
    "                      'open_il_24m','open_rv_24m','out_prncp','out_prncp_inv','pymnt_plan','tot_cur_bal',\n",
    "                      'total_bal_il','total_pymnt','total_pymnt_inv','total_rec_int','total_rec_late_fee','total_rec_prncp',\n",
    "                      'url','zip_code','sec_app_earliest_cr_line', 'hardship_type','deferral_term','hardship_length',\n",
    "                      'disbursement_method','last_pymnt_amnt', 'mths_since_last_major_derog', 'mths_since_last_record',\n",
    "                      'mths_since_rcnt_il', 'mths_since_recent_bc_dlq', 'mths_since_recent_revol_delinq', 'next_pymnt_d', \n",
    "                      'open_il_12m', 'open_act_il', 'open_rv_12m', 'total_cu_tl', 'revol_bal_joint', 'policy_code', \n",
    "                      'recoveries', 'collection_recovery_fee']"
   ]
  },
  {
   "cell_type": "code",
   "execution_count": 22,
   "metadata": {},
   "outputs": [],
   "source": [
    "loan_data.drop(cols_to_be_dropped, axis=1, inplace=True)"
   ]
  },
  {
   "cell_type": "code",
   "execution_count": 23,
   "metadata": {},
   "outputs": [
    {
     "name": "stdout",
     "output_type": "stream",
     "text": [
      "Now, the dataset has  68478  records and  94  variables.\n"
     ]
    }
   ],
   "source": [
    "print('Now, the dataset has ', loan_data.shape[0], ' records and ', loan_data.shape[1], ' variables.')"
   ]
  },
  {
   "cell_type": "code",
   "execution_count": 24,
   "metadata": {},
   "outputs": [],
   "source": [
    "## This is a temporay step where features that are pending EDA have been dropped.\n",
    "## Step will be removed once EDA phase is complete\n",
    "\n",
    "temp_cols_imputed = ['mo_sin_old_il_acct', 'mo_sin_old_rev_tl_op','mo_sin_rcnt_rev_tl_op','mo_sin_rcnt_tl','mort_acc',\n",
    "                     'mths_since_last_delinq', 'mths_since_recent_bc', 'mths_since_recent_inq','num_accts_ever_120_pd',\n",
    "                     'num_actv_bc_tl','num_actv_rev_tl','num_bc_sats','num_bc_tl','num_il_tl', 'num_op_rev_tl',\n",
    "                     'num_rev_accts','num_rev_tl_bal_gt_0','num_sats','pct_tl_nvr_dlq','percent_bc_gt_75','pub_rec',\n",
    "                     'pub_rec_bankruptcies','revol_bal','revol_util','tax_liens','tot_coll_amt']\n",
    "\n",
    "for feature in temp_cols_imputed:\n",
    "    loan_data[feature] = impute_by_constant(loan_data, feature, loan_data[feature].median())"
   ]
  },
  {
   "cell_type": "code",
   "execution_count": 25,
   "metadata": {},
   "outputs": [
    {
     "name": "stdout",
     "output_type": "stream",
     "text": [
      "Now, the dataset has  68478  records and  63  variables.\n"
     ]
    }
   ],
   "source": [
    "## This is a temporay step where features that are pending EDA have been dropped.\n",
    "## Step will be removed once EDA phase is complete\n",
    "temp_cols_dropped = ['sec_app_fico_range_low','sec_app_fico_range_high', 'sec_app_inq_last_6mths',\n",
    "                     'sec_app_mort_acc','sec_app_open_acc','sec_app_revol_util','sec_app_open_act_il','sec_app_num_rev_accts',\n",
    "                     'sec_app_chargeoff_within_12_mths','sec_app_collections_12_mths_ex_med','sec_app_mths_since_last_major_derog', \n",
    "                     'hardship_flag','hardship_reason','hardship_status','hardship_amount','hardship_start_date',\n",
    "                     'hardship_end_date','payment_plan_start_date','hardship_dpd','hardship_loan_status',\n",
    "                     'orig_projected_additional_accrued_interest','hardship_payoff_balance_amount','hardship_last_payment_amount',\n",
    "                     'debt_settlement_flag','debt_settlement_flag_date','settlement_status','settlement_date',\n",
    "                     'settlement_amount','settlement_percentage','settlement_term','title']\n",
    "\n",
    "loan_data.drop(temp_cols_dropped, axis=1, inplace=True)\n",
    "\n",
    "print('Now, the dataset has ', loan_data.shape[0], ' records and ', loan_data.shape[1], ' variables.')"
   ]
  },
  {
   "cell_type": "markdown",
   "metadata": {},
   "source": [
    "**Handling Missing Values (using zero imputation)**"
   ]
  },
  {
   "cell_type": "code",
   "execution_count": 26,
   "metadata": {
    "scrolled": true
   },
   "outputs": [],
   "source": [
    "cols_for_zero_imputation = ['acc_open_past_24mths','annual_inc_joint','chargeoff_within_12_mths',\n",
    "                            'collections_12_mths_ex_med','delinq_2yrs','dti_joint','num_tl_30dpd','num_tl_90g_dpd_24m',\n",
    "                            'open_acc','total_bc_limit','total_il_high_credit_limit', 'delinq_amnt', 'total_acc']"
   ]
  },
  {
   "cell_type": "code",
   "execution_count": 27,
   "metadata": {},
   "outputs": [],
   "source": [
    "for feature in cols_for_zero_imputation:\n",
    "    loan_data[feature] = impute_by_constant(loan_data, feature, 0)"
   ]
  },
  {
   "cell_type": "markdown",
   "metadata": {},
   "source": [
    "**Handling Missing Values (using median imputation)**"
   ]
  },
  {
   "cell_type": "code",
   "execution_count": 28,
   "metadata": {},
   "outputs": [],
   "source": [
    "cols_for_median_imputation = ['annual_inc','dti','total_rev_hi_lim','avg_cur_bal','tot_hi_cred_lim', 'bc_open_to_buy',\n",
    "                              'bc_util', 'total_bal_ex_mort']"
   ]
  },
  {
   "cell_type": "code",
   "execution_count": 29,
   "metadata": {},
   "outputs": [],
   "source": [
    "for feature in cols_for_median_imputation:\n",
    "    loan_data[feature] = impute_by_constant(loan_data, feature, loan_data[feature].median())"
   ]
  },
  {
   "cell_type": "markdown",
   "metadata": {},
   "source": [
    "**Handling Missing Values (using mode imputation)**"
   ]
  },
  {
   "cell_type": "code",
   "execution_count": 30,
   "metadata": {},
   "outputs": [],
   "source": [
    "cols_for_mode_imputation = []"
   ]
  },
  {
   "cell_type": "markdown",
   "metadata": {},
   "source": [
    "**Encoding categorical features**"
   ]
  },
  {
   "cell_type": "code",
   "execution_count": 31,
   "metadata": {},
   "outputs": [],
   "source": [
    "cols_for_encoding = ['term','sub_grade','home_ownership','verification_status','purpose','addr_state',\n",
    "                     'initial_list_status']"
   ]
  },
  {
   "cell_type": "code",
   "execution_count": 32,
   "metadata": {},
   "outputs": [],
   "source": [
    "for feature in loan_data.columns:\n",
    "    if loan_data[feature].dtype == 'object':\n",
    "        loan_data[feature] = encode_categorical_variable(loan_data, feature)"
   ]
  },
  {
   "cell_type": "markdown",
   "metadata": {},
   "source": [
    "**Handling Missing Values (using knn imputation)**"
   ]
  },
  {
   "cell_type": "code",
   "execution_count": 33,
   "metadata": {},
   "outputs": [],
   "source": [
    "cols_for_knn_imputation = ['emp_length', 'inq_last_12m', 'inq_last_6mths']"
   ]
  },
  {
   "cell_type": "code",
   "execution_count": 34,
   "metadata": {},
   "outputs": [],
   "source": [
    "#X = impute_by_knn(X, 4)"
   ]
  },
  {
   "cell_type": "code",
   "execution_count": 35,
   "metadata": {},
   "outputs": [],
   "source": [
    "## knn imputation throwing error. hence applied mode imputation\n",
    "for feature in cols_for_knn_imputation:\n",
    "    loan_data[feature] = impute_by_constant(loan_data, feature, loan_data[feature].mode().get(0))"
   ]
  },
  {
   "cell_type": "markdown",
   "metadata": {},
   "source": [
    "**Handling Missing Values (using 'missing' indicator imputation in categorical variables)**"
   ]
  },
  {
   "cell_type": "code",
   "execution_count": 36,
   "metadata": {},
   "outputs": [],
   "source": [
    "loan_data['verification_status_joint'] = impute_by_constant(loan_data, 'verification_status_joint', 'Not Applicable')"
   ]
  },
  {
   "cell_type": "markdown",
   "metadata": {},
   "source": [
    "**Feature Scaling**"
   ]
  },
  {
   "cell_type": "code",
   "execution_count": 37,
   "metadata": {},
   "outputs": [],
   "source": [
    "loan_data = scale_variable(loan_data, 'loan_type')"
   ]
  },
  {
   "cell_type": "markdown",
   "metadata": {},
   "source": [
    "# Modelling Preparation"
   ]
  },
  {
   "cell_type": "markdown",
   "metadata": {},
   "source": [
    "**Dropping columns as per feature selection results from previous tests**"
   ]
  },
  {
   "cell_type": "code",
   "execution_count": 38,
   "metadata": {},
   "outputs": [
    {
     "data": {
      "text/plain": [
       "'\\ncols_dropped_post_feature_selection = []\\nloan_data.drop(cols_dropped_post_feature_selection, axis=1, inplace=True)\\n'"
      ]
     },
     "execution_count": 38,
     "metadata": {},
     "output_type": "execute_result"
    }
   ],
   "source": [
    "'''\n",
    "cols_dropped_post_feature_selection = []\n",
    "loan_data.drop(cols_dropped_post_feature_selection, axis=1, inplace=True)\n",
    "'''"
   ]
  },
  {
   "cell_type": "markdown",
   "metadata": {},
   "source": [
    "**Get the feature and target variables**"
   ]
  },
  {
   "cell_type": "code",
   "execution_count": 39,
   "metadata": {},
   "outputs": [
    {
     "name": "stdout",
     "output_type": "stream",
     "text": [
      "Now, the dataset has  68478  records and  62  variables.\n"
     ]
    }
   ],
   "source": [
    "y = loan_data['loan_type']\n",
    "X = loan_data.drop(['loan_type'], axis=1)\n",
    "\n",
    "loan_data.drop(['loan_type'], axis=1, inplace=True)\n",
    "\n",
    "print('Now, the dataset has ', X.shape[0], ' records and ', X.shape[1], ' variables.')"
   ]
  },
  {
   "cell_type": "markdown",
   "metadata": {},
   "source": [
    "**Oversampling using SMOTE**"
   ]
  },
  {
   "cell_type": "code",
   "execution_count": 40,
   "metadata": {},
   "outputs": [
    {
     "name": "stdout",
     "output_type": "stream",
     "text": [
      "Now, the dataset has  107816  records and  62  variables.\n"
     ]
    }
   ],
   "source": [
    "sm = RandomOverSampler(random_state=0)\n",
    "X, y = sm.fit_sample(X, y)\n",
    "\n",
    "print('Now, the dataset has ', X.shape[0], ' records and ', X.shape[1], ' variables.')"
   ]
  },
  {
   "cell_type": "markdown",
   "metadata": {},
   "source": [
    "**Define k for cross-validation**"
   ]
  },
  {
   "cell_type": "code",
   "execution_count": 41,
   "metadata": {
    "scrolled": true
   },
   "outputs": [
    {
     "name": "stdout",
     "output_type": "stream",
     "text": [
      "Number of folds:  3\n"
     ]
    }
   ],
   "source": [
    "#X_train, X_test, y_train, y_test = train_test_split(X_scaled, y, test_size=0.2, random_state=0)\n",
    "skf = StratifiedKFold(n_splits=3)\n",
    "n_split = skf.get_n_splits(X)\n",
    "print('Number of folds: ', n_split)"
   ]
  },
  {
   "cell_type": "markdown",
   "metadata": {},
   "source": [
    "**Hyper parameter tuning**"
   ]
  },
  {
   "cell_type": "code",
   "execution_count": 42,
   "metadata": {},
   "outputs": [
    {
     "data": {
      "text/plain": [
       "\"\\n# 0.9125633304946389\\n'solver': ['sag'],\\n'C':  [1],\\n'penalty':  ['l2'],\\n'multi_class': ['ovr']\\n\""
      ]
     },
     "execution_count": 42,
     "metadata": {},
     "output_type": "execute_result"
    }
   ],
   "source": [
    "'''\n",
    "clf = LogisticRegression(random_state=0)\n",
    "parameters = {\n",
    "    'solver': ['sag'],\n",
    "    'C':  [1, 10, 100],\n",
    "    'penalty':  ['l2'],\n",
    "    'multi_class': ['ovr'],\n",
    "    'max_iter' : [1000]\n",
    "     }\n",
    "\n",
    "grid = GridSearchCV(clf, parameters, n_jobs=4, scoring='precision_weighted', cv=n_split, verbose=20)\n",
    "grid.fit(X_scaled, y)\n",
    "print('Best Estimator: ', grid.best_estimator_)\n",
    "print('Best Score: ', grid.best_score_)\n",
    "'''\n",
    "\n",
    "'''\n",
    "# 0.9125633304946389\n",
    "'solver': ['sag'],\n",
    "'C':  [1],\n",
    "'penalty':  ['l2'],\n",
    "'multi_class': ['ovr']\n",
    "'''"
   ]
  },
  {
   "cell_type": "markdown",
   "metadata": {},
   "source": [
    "**Modelling: Train, Test and Model Assessment**"
   ]
  },
  {
   "cell_type": "code",
   "execution_count": 43,
   "metadata": {},
   "outputs": [
    {
     "name": "stdout",
     "output_type": "stream",
     "text": [
      "*******************Start of split*******************\n",
      "Accuracy :  0.6635131751022566\n",
      "Precision :  0.6608814672871612\n",
      "Recall :  0.6717306622148025\n",
      "F1 :  0.666261901476473\n",
      "*******************Start of split*******************\n",
      "Accuracy :  0.6663234925846573\n",
      "Precision :  0.6642664761171879\n",
      "Recall :  0.6725471645611887\n",
      "F1 :  0.6683811736076545\n",
      "*******************Start of split*******************\n",
      "Accuracy :  0.6665924648004897\n",
      "Precision :  0.6651950775343524\n",
      "Recall :  0.670821971172575\n",
      "F1 :  0.6679966749792186\n"
     ]
    }
   ],
   "source": [
    "for train_index, test_index in skf.split(X, y):\n",
    "    print('*******************Start of split*******************')\n",
    "    ## split into train and test data\n",
    "    X_train, X_test = X.iloc[train_index], X.iloc[test_index]\n",
    "    y_train, y_test = y.iloc[train_index], y.iloc[test_index]\n",
    "    ## model fitting using train data\n",
    "    lg_clf = LogisticRegression(solver='sag', C=1 , penalty='l2', multi_class='auto', \n",
    "                            max_iter=10000, n_jobs=-1, random_state=0)\n",
    "    lg_clf.fit(X_train, y_train)\n",
    "    ## predicting using test data\n",
    "    y_pred = lg_clf.predict(X_test)\n",
    "    ## assessing model performance\n",
    "    acc = accuracy_score(y_test, y_pred)\n",
    "    prec = precision_score(y_test, y_pred)\n",
    "    rec = recall_score(y_test, y_pred)\n",
    "    f1 = f1_score(y_test, y_pred)\n",
    "    #roc_auc = roc_auc_score(y_test, y_pred)\n",
    "    print('Accuracy : ', acc)\n",
    "    print('Precision : ', prec)\n",
    "    print('Recall : ', rec)\n",
    "    print('F1 : ', f1)\n",
    "    #print('ROC-AUC Score: ', roc_auc)"
   ]
  },
  {
   "cell_type": "code",
   "execution_count": 44,
   "metadata": {},
   "outputs": [
    {
     "data": {
      "image/png": "[encoded data removed]",
      "text/plain": [
       "<Figure size 1080x432 with 2 Axes>"
      ]
     },
     "metadata": {
      "needs_background": "light"
     },
     "output_type": "display_data"
    }
   ],
   "source": [
    "## confusion matrix\n",
    "plt.figure(figsize=(15,6))\n",
    "cm = confusion_matrix(y_test, y_pred)\n",
    "ax = sns.heatmap(cm, cmap='viridis_r', annot=True, fmt='d', square=True)\n",
    "ax.set_xlabel('Predicted')\n",
    "ax.set_ylabel('Actual')\n",
    "ax.set_title('Confusion Matrix')\n",
    "plt.savefig('pics/confusion_matrix.png')"
   ]
  },
  {
   "cell_type": "markdown",
   "metadata": {},
   "source": [
    "~30% of bad loans are predicted as good loans.\n",
    "\n",
    "~4.15% of good loans are predicted as bad loans."
   ]
  },
  {
   "cell_type": "code",
   "execution_count": 52,
   "metadata": {},
   "outputs": [
    {
     "name": "stdout",
     "output_type": "stream",
     "text": [
      "AUC Score:  0.7264130397203603\n"
     ]
    },
    {
     "data": {
      "image/png": "[encoded data removed]",
      "text/plain": [
       "<Figure size 432x288 with 1 Axes>"
      ]
     },
     "metadata": {
      "needs_background": "light"
     },
     "output_type": "display_data"
    },
    {
     "data": {
      "text/plain": [
       "<Figure size 432x288 with 0 Axes>"
      ]
     },
     "metadata": {},
     "output_type": "display_data"
    }
   ],
   "source": [
    "y_proba = lg_clf.predict_proba(X_test)[:, 1]\n",
    "print('AUC Score: ', roc_auc_score(y_test, y_proba))\n",
    "\n",
    "fpr, tpr, _ = roc_curve(y_test, y_proba)\n",
    "plt.plot(fpr, tpr, marker='.', label='Logistic (with Oversampling)')\n",
    "plt.xlabel('False Positive Rate')\n",
    "plt.ylabel('True Positive Rate')\n",
    "plt.legend()\n",
    "plt.show()\n",
    "plt.savefig('pics/auc_curve.png')"
   ]
  },
  {
   "cell_type": "markdown",
   "metadata": {},
   "source": [
    "**Find the best features of the dataset**"
   ]
  },
  {
   "cell_type": "code",
   "execution_count": 46,
   "metadata": {
    "scrolled": false
   },
   "outputs": [],
   "source": [
    "importance = pd.Series(lg_clf.coef_[0], index=list(X_train.columns))\n",
    "\n",
    "feature_imp_df = pd.DataFrame({'Feature_Name': list(X_train.columns),\n",
    "                               'Feature_Importance': importance})\n",
    "feature_imp_df.sort_values(by=['Feature_Importance'], ascending=True, inplace=True)"
   ]
  },
  {
   "cell_type": "code",
   "execution_count": 56,
   "metadata": {},
   "outputs": [
    {
     "name": "stdout",
     "output_type": "stream",
     "text": [
      "                                          Feature_Name  Feature_Importance\n",
      "mo_sin_rcnt_tl                          mo_sin_rcnt_tl            0.004037\n",
      "delinq_amnt                                delinq_amnt            0.004679\n",
      "tot_hi_cred_lim                        tot_hi_cred_lim            0.005469\n",
      "mo_sin_old_il_acct                  mo_sin_old_il_acct            0.006114\n",
      "tot_coll_amt                              tot_coll_amt            0.008224\n",
      "mo_sin_old_rev_tl_op              mo_sin_old_rev_tl_op            0.008528\n",
      "num_rev_accts                            num_rev_accts            0.010708\n",
      "addr_state                                  addr_state            0.013572\n",
      "num_op_rev_tl                            num_op_rev_tl            0.016306\n",
      "mths_since_last_delinq          mths_since_last_delinq            0.018244\n",
      "tax_liens                                    tax_liens            0.020187\n",
      "chargeoff_within_12_mths      chargeoff_within_12_mths            0.022530\n",
      "verification_status_joint    verification_status_joint            0.028635\n",
      "mths_since_recent_inq            mths_since_recent_inq            0.034373\n",
      "annual_inc_joint                      annual_inc_joint            0.035622\n",
      "mths_since_recent_bc              mths_since_recent_bc            0.036979\n",
      "num_actv_bc_tl                          num_actv_bc_tl            0.038737\n",
      "num_tl_90g_dpd_24m                  num_tl_90g_dpd_24m            0.039551\n",
      "pub_rec_bankruptcies              pub_rec_bankruptcies            0.042588\n",
      "mort_acc                                      mort_acc            0.046729\n",
      "avg_cur_bal                                avg_cur_bal            0.074988\n",
      "annual_inc                                  annual_inc            0.103213\n",
      "total_acc                                    total_acc            0.119153\n",
      "fico_range_high                        fico_range_high            0.124136\n",
      "total_bc_limit                          total_bc_limit            0.177663\n",
      "total_rev_hi_lim                      total_rev_hi_lim            0.187634\n",
      "total_il_high_credit_limit  total_il_high_credit_limit            0.214353\n",
      "open_acc                                      open_acc            0.222167\n"
     ]
    },
    {
     "data": {
      "image/png": "[encoded data removed]",
      "text/plain": [
       "<Figure size 1080x360 with 1 Axes>"
      ]
     },
     "metadata": {
      "needs_background": "light"
     },
     "output_type": "display_data"
    }
   ],
   "source": [
    "feature_imp_df_positive = feature_imp_df[feature_imp_df['Feature_Importance'] >= 0]\n",
    "print(feature_imp_df_positive)\n",
    "\n",
    "plt.figure(figsize=(15,5))\n",
    "ax = sns.barplot(x='Feature_Name', y='Feature_Importance', data=feature_imp_df_positive, palette='deep')\n",
    "ax.set_xticklabels(ax.get_xticklabels(), rotation=90, horizontalalignment='right')\n",
    "plt.savefig('pics/logistic_reg_oversampling_feature_importance_poistive.png')"
   ]
  },
  {
   "cell_type": "code",
   "execution_count": 59,
   "metadata": {},
   "outputs": [
    {
     "name": "stdout",
     "output_type": "stream",
     "text": [
      "                                          Feature_Name  Feature_Importance\n",
      "sub_grade                                    sub_grade           -0.348591\n",
      "term                                              term           -0.255873\n",
      "issue_d                                        issue_d           -0.232682\n",
      "num_sats                                      num_sats           -0.206366\n",
      "total_bal_ex_mort                    total_bal_ex_mort           -0.204131\n",
      "funded_amnt                                funded_amnt           -0.190573\n",
      "dti                                                dti           -0.161796\n",
      "bc_open_to_buy                          bc_open_to_buy           -0.116401\n",
      "acc_open_past_24mths              acc_open_past_24mths           -0.115641\n",
      "home_ownership                          home_ownership           -0.108320\n",
      "num_bc_sats                                num_bc_sats           -0.088171\n",
      "delinq_2yrs                                delinq_2yrs           -0.085496\n",
      "num_actv_rev_tl                        num_actv_rev_tl           -0.073036\n",
      "inq_last_6mths                          inq_last_6mths           -0.055067\n",
      "purpose                                        purpose           -0.052236\n",
      "pct_tl_nvr_dlq                          pct_tl_nvr_dlq           -0.051016\n",
      "pub_rec                                        pub_rec           -0.050199\n",
      "revol_bal                                    revol_bal           -0.039660\n",
      "num_bc_tl                                    num_bc_tl           -0.035747\n",
      "collections_12_mths_ex_med  collections_12_mths_ex_med           -0.032243\n",
      "int_rate                                      int_rate           -0.031676\n",
      "num_il_tl                                    num_il_tl           -0.028741\n",
      "verification_status                verification_status           -0.027998\n",
      "num_rev_tl_bal_gt_0                num_rev_tl_bal_gt_0           -0.024825\n",
      "percent_bc_gt_75                      percent_bc_gt_75           -0.024638\n",
      "emp_length                                  emp_length           -0.018050\n",
      "inq_last_12m                              inq_last_12m           -0.017903\n",
      "num_tl_30dpd                              num_tl_30dpd           -0.016781\n",
      "num_accts_ever_120_pd            num_accts_ever_120_pd           -0.014609\n",
      "bc_util                                        bc_util           -0.010713\n",
      "revol_util                                  revol_util           -0.009680\n",
      "dti_joint                                    dti_joint           -0.005386\n",
      "mo_sin_rcnt_rev_tl_op            mo_sin_rcnt_rev_tl_op           -0.003829\n",
      "initial_list_status                initial_list_status           -0.000959\n"
     ]
    },
    {
     "data": {
      "image/png": "[encoded data removed]",
      "text/plain": [
       "<Figure size 1080x360 with 1 Axes>"
      ]
     },
     "metadata": {
      "needs_background": "light"
     },
     "output_type": "display_data"
    }
   ],
   "source": [
    "feature_imp_df_negative = feature_imp_df[feature_imp_df['Feature_Importance'] < 0]\n",
    "print(feature_imp_df_negative)\n",
    "\n",
    "plt.figure(figsize=(15,5))\n",
    "ax = sns.barplot(x='Feature_Name', y='Feature_Importance', data=feature_imp_df_negative, palette='deep')\n",
    "ax.set_xticklabels(ax.get_xticklabels(), rotation=90, horizontalalignment='right')\n",
    "plt.savefig('pics/logistic_reg_oversampling_feature_importance_negative.png')"
   ]
  },
  {
   "cell_type": "code",
   "execution_count": 49,
   "metadata": {},
   "outputs": [
    {
     "data": {
      "text/html": [
       "<div>\n",
       "<style scoped>\n",
       "    .dataframe tbody tr th:only-of-type {\n",
       "        vertical-align: middle;\n",
       "    }\n",
       "\n",
       "    .dataframe tbody tr th {\n",
       "        vertical-align: top;\n",
       "    }\n",
       "\n",
       "    .dataframe thead th {\n",
       "        text-align: right;\n",
       "    }\n",
       "</style>\n",
       "<table border=\"1\" class=\"dataframe\">\n",
       "  <thead>\n",
       "    <tr style=\"text-align: right;\">\n",
       "      <th></th>\n",
       "      <th>0</th>\n",
       "      <th>0</th>\n",
       "    </tr>\n",
       "  </thead>\n",
       "  <tbody>\n",
       "    <tr>\n",
       "      <th>0</th>\n",
       "      <td>funded_amnt</td>\n",
       "      <td>-0.190573</td>\n",
       "    </tr>\n",
       "    <tr>\n",
       "      <th>1</th>\n",
       "      <td>term</td>\n",
       "      <td>-0.255873</td>\n",
       "    </tr>\n",
       "    <tr>\n",
       "      <th>2</th>\n",
       "      <td>int_rate</td>\n",
       "      <td>-0.031676</td>\n",
       "    </tr>\n",
       "    <tr>\n",
       "      <th>3</th>\n",
       "      <td>sub_grade</td>\n",
       "      <td>-0.348591</td>\n",
       "    </tr>\n",
       "    <tr>\n",
       "      <th>4</th>\n",
       "      <td>emp_length</td>\n",
       "      <td>-0.018050</td>\n",
       "    </tr>\n",
       "    <tr>\n",
       "      <th>5</th>\n",
       "      <td>home_ownership</td>\n",
       "      <td>-0.108320</td>\n",
       "    </tr>\n",
       "    <tr>\n",
       "      <th>6</th>\n",
       "      <td>annual_inc</td>\n",
       "      <td>0.103213</td>\n",
       "    </tr>\n",
       "    <tr>\n",
       "      <th>7</th>\n",
       "      <td>verification_status</td>\n",
       "      <td>-0.027998</td>\n",
       "    </tr>\n",
       "    <tr>\n",
       "      <th>8</th>\n",
       "      <td>issue_d</td>\n",
       "      <td>-0.232682</td>\n",
       "    </tr>\n",
       "    <tr>\n",
       "      <th>9</th>\n",
       "      <td>purpose</td>\n",
       "      <td>-0.052236</td>\n",
       "    </tr>\n",
       "  </tbody>\n",
       "</table>\n",
       "</div>"
      ],
      "text/plain": [
       "                     0         0\n",
       "0          funded_amnt -0.190573\n",
       "1                 term -0.255873\n",
       "2             int_rate -0.031676\n",
       "3            sub_grade -0.348591\n",
       "4           emp_length -0.018050\n",
       "5       home_ownership -0.108320\n",
       "6           annual_inc  0.103213\n",
       "7  verification_status -0.027998\n",
       "8              issue_d -0.232682\n",
       "9              purpose -0.052236"
      ]
     },
     "execution_count": 49,
     "metadata": {},
     "output_type": "execute_result"
    }
   ],
   "source": [
    "coefficients_df = pd.concat([pd.DataFrame(X_train.columns), \n",
    "                          pd.DataFrame(np.transpose(lg_clf.coef_))], \n",
    "                          axis = 1)\n",
    "coefficients_df.head(10)"
   ]
  },
  {
   "cell_type": "markdown",
   "metadata": {},
   "source": [
    "# Predicting the fate of currently active loans"
   ]
  },
  {
   "cell_type": "code",
   "execution_count": 50,
   "metadata": {},
   "outputs": [],
   "source": [
    "## preprocessing the data\n",
    "loan_data_final_predict['issue_d'] = (pd.to_datetime(loan_data_final_predict['issue_d']).dt.year).astype(int)\n",
    "loan_data_final_predict['emp_length'].fillna(value=0,inplace=True)\n",
    "loan_data_final_predict['emp_length'].replace(to_replace='[^0-9]+', value='', inplace=True, regex=True)\n",
    "loan_data_final_predict['emp_length'] = loan_data_final_predict['emp_length'].astype(int)\n",
    "loan_data_final_predict['emp_length'].replace(to_replace=0, value=np.nan, inplace=True)\n",
    "## dropping columns not needed\n",
    "loan_data_final_predict.drop(cols_to_be_dropped, axis=1, inplace=True)\n",
    "## temporary step\n",
    "for feature in temp_cols_imputed:\n",
    "    loan_data_final_predict[feature] = impute_by_constant(loan_data_final_predict, feature, \n",
    "                                                          loan_data_final_predict[feature].median())\n",
    "loan_data_final_predict.drop(temp_cols_dropped, axis=1, inplace=True)\n",
    "## missing value imputation -> constant(zero), mean, median\n",
    "for feature in cols_for_zero_imputation:\n",
    "    loan_data_final_predict[feature] = impute_by_constant(loan_data_final_predict, feature, 0)\n",
    "for feature in cols_for_median_imputation:\n",
    "    loan_data_final_predict[feature] = impute_by_constant(loan_data_final_predict, feature, \n",
    "                                                          loan_data[feature].median())\n",
    "## categorical value encoding\n",
    "for feature in loan_data_final_predict.columns:\n",
    "    if loan_data_final_predict[feature].dtype == 'object':\n",
    "        loan_data_final_predict[feature] = encode_categorical_variable(loan_data_final_predict, feature)\n",
    "## missing value imputation -> knn\n",
    "for feature in cols_for_knn_imputation:\n",
    "    loan_data_final_predict[feature] = impute_by_constant(loan_data_final_predict, feature, \n",
    "                                                          loan_data_final_predict[feature].mode().get(0))\n",
    "## missing value imputation -> constant (categorical)\n",
    "loan_data_final_predict['verification_status_joint'] = impute_by_constant(loan_data_final_predict, \n",
    "                                                                          'verification_status_joint', \n",
    "                                                                          'Not Applicable')\n",
    "## categorical value encoding\n",
    "#loan_data_final_predict = scale_variable(loan_data_final_predict, 'loan_type')\n",
    "scaler = StandardScaler()\n",
    "scaler.fit(loan_data_final_predict)\n",
    "loan_data_final_predict = pd.DataFrame(scaler.transform(loan_data_final_predict), \n",
    "                                       columns=loan_data_final_predict.columns)\n",
    "## predict\n",
    "y_final_pred = lg_clf.predict(loan_data_final_predict)\n",
    "## merge predicted values with dataset\n",
    "loan_data_final_predict['loan_status'] = pd.Series(y_final_pred)"
   ]
  },
  {
   "cell_type": "code",
   "execution_count": 51,
   "metadata": {},
   "outputs": [],
   "source": [
    "## write prdicted values to output file\n",
    "loan_data_final_predict[loan_data_final_predict['loan_status'] == 0].to_csv('predicted_bad_loans.csv', index=False) "
   ]
  },
  {
   "cell_type": "code",
   "execution_count": null,
   "metadata": {},
   "outputs": [],
   "source": []
  }
 ],
 "metadata": {
  "kernelspec": {
   "display_name": "Python 3",
   "language": "python",
   "name": "python3"
  },
  "language_info": {
   "codemirror_mode": {
    "name": "ipython",
    "version": 3
   },
   "file_extension": ".py",
   "mimetype": "text/x-python",
   "name": "python",
   "nbconvert_exporter": "python",
   "pygments_lexer": "ipython3",
   "version": "3.7.3"
  }
 },
 "nbformat": 4,
 "nbformat_minor": 2
}
